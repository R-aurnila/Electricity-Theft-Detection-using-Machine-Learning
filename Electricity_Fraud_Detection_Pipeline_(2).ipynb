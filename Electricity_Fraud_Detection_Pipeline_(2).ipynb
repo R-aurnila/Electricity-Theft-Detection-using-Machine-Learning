{
  "cells": [
    {
      "cell_type": "code",
      "execution_count": null,
      "metadata": {
        "colab": {
          "base_uri": "https://localhost:8080/"
        },
        "id": "qjPAvC1Lwp1X",
        "outputId": "f536784c-1d7b-4413-8f26-dab40d78b3cf"
      },
      "outputs": [
        {
          "output_type": "stream",
          "name": "stdout",
          "text": [
            "Requirement already satisfied: tensorflow==2.12.0 in /usr/local/lib/python3.10/dist-packages (2.12.0)\n",
            "Requirement already satisfied: absl-py>=1.0.0 in /usr/local/lib/python3.10/dist-packages (from tensorflow==2.12.0) (1.4.0)\n",
            "Requirement already satisfied: astunparse>=1.6.0 in /usr/local/lib/python3.10/dist-packages (from tensorflow==2.12.0) (1.6.3)\n",
            "Requirement already satisfied: flatbuffers>=2.0 in /usr/local/lib/python3.10/dist-packages (from tensorflow==2.12.0) (24.3.25)\n",
            "Requirement already satisfied: gast<=0.4.0,>=0.2.1 in /usr/local/lib/python3.10/dist-packages (from tensorflow==2.12.0) (0.4.0)\n",
            "Requirement already satisfied: google-pasta>=0.1.1 in /usr/local/lib/python3.10/dist-packages (from tensorflow==2.12.0) (0.2.0)\n",
            "Requirement already satisfied: grpcio<2.0,>=1.24.3 in /usr/local/lib/python3.10/dist-packages (from tensorflow==2.12.0) (1.64.1)\n",
            "Requirement already satisfied: h5py>=2.9.0 in /usr/local/lib/python3.10/dist-packages (from tensorflow==2.12.0) (3.11.0)\n",
            "Requirement already satisfied: jax>=0.3.15 in /usr/local/lib/python3.10/dist-packages (from tensorflow==2.12.0) (0.4.26)\n",
            "Requirement already satisfied: keras<2.13,>=2.12.0 in /usr/local/lib/python3.10/dist-packages (from tensorflow==2.12.0) (2.12.0)\n",
            "Requirement already satisfied: libclang>=13.0.0 in /usr/local/lib/python3.10/dist-packages (from tensorflow==2.12.0) (18.1.1)\n",
            "Requirement already satisfied: numpy<1.24,>=1.22 in /usr/local/lib/python3.10/dist-packages (from tensorflow==2.12.0) (1.23.5)\n",
            "Requirement already satisfied: opt-einsum>=2.3.2 in /usr/local/lib/python3.10/dist-packages (from tensorflow==2.12.0) (3.3.0)\n",
            "Requirement already satisfied: packaging in /usr/local/lib/python3.10/dist-packages (from tensorflow==2.12.0) (24.1)\n",
            "Requirement already satisfied: protobuf!=4.21.0,!=4.21.1,!=4.21.2,!=4.21.3,!=4.21.4,!=4.21.5,<5.0.0dev,>=3.20.3 in /usr/local/lib/python3.10/dist-packages (from tensorflow==2.12.0) (3.20.3)\n",
            "Requirement already satisfied: setuptools in /usr/local/lib/python3.10/dist-packages (from tensorflow==2.12.0) (71.0.4)\n",
            "Requirement already satisfied: six>=1.12.0 in /usr/local/lib/python3.10/dist-packages (from tensorflow==2.12.0) (1.16.0)\n",
            "Requirement already satisfied: tensorboard<2.13,>=2.12 in /usr/local/lib/python3.10/dist-packages (from tensorflow==2.12.0) (2.12.3)\n",
            "Requirement already satisfied: tensorflow-estimator<2.13,>=2.12.0 in /usr/local/lib/python3.10/dist-packages (from tensorflow==2.12.0) (2.12.0)\n",
            "Requirement already satisfied: termcolor>=1.1.0 in /usr/local/lib/python3.10/dist-packages (from tensorflow==2.12.0) (2.4.0)\n",
            "Requirement already satisfied: typing-extensions>=3.6.6 in /usr/local/lib/python3.10/dist-packages (from tensorflow==2.12.0) (4.12.2)\n",
            "Requirement already satisfied: wrapt<1.15,>=1.11.0 in /usr/local/lib/python3.10/dist-packages (from tensorflow==2.12.0) (1.14.1)\n",
            "Requirement already satisfied: tensorflow-io-gcs-filesystem>=0.23.1 in /usr/local/lib/python3.10/dist-packages (from tensorflow==2.12.0) (0.37.1)\n",
            "Requirement already satisfied: wheel<1.0,>=0.23.0 in /usr/local/lib/python3.10/dist-packages (from astunparse>=1.6.0->tensorflow==2.12.0) (0.44.0)\n",
            "Requirement already satisfied: ml-dtypes>=0.2.0 in /usr/local/lib/python3.10/dist-packages (from jax>=0.3.15->tensorflow==2.12.0) (0.4.1)\n",
            "Requirement already satisfied: scipy>=1.9 in /usr/local/lib/python3.10/dist-packages (from jax>=0.3.15->tensorflow==2.12.0) (1.13.1)\n",
            "Requirement already satisfied: google-auth<3,>=1.6.3 in /usr/local/lib/python3.10/dist-packages (from tensorboard<2.13,>=2.12->tensorflow==2.12.0) (2.27.0)\n",
            "Requirement already satisfied: google-auth-oauthlib<1.1,>=0.5 in /usr/local/lib/python3.10/dist-packages (from tensorboard<2.13,>=2.12->tensorflow==2.12.0) (1.0.0)\n",
            "Requirement already satisfied: markdown>=2.6.8 in /usr/local/lib/python3.10/dist-packages (from tensorboard<2.13,>=2.12->tensorflow==2.12.0) (3.7)\n",
            "Requirement already satisfied: requests<3,>=2.21.0 in /usr/local/lib/python3.10/dist-packages (from tensorboard<2.13,>=2.12->tensorflow==2.12.0) (2.32.3)\n",
            "Requirement already satisfied: tensorboard-data-server<0.8.0,>=0.7.0 in /usr/local/lib/python3.10/dist-packages (from tensorboard<2.13,>=2.12->tensorflow==2.12.0) (0.7.2)\n",
            "Requirement already satisfied: werkzeug>=1.0.1 in /usr/local/lib/python3.10/dist-packages (from tensorboard<2.13,>=2.12->tensorflow==2.12.0) (3.0.4)\n",
            "Requirement already satisfied: cachetools<6.0,>=2.0.0 in /usr/local/lib/python3.10/dist-packages (from google-auth<3,>=1.6.3->tensorboard<2.13,>=2.12->tensorflow==2.12.0) (5.5.0)\n",
            "Requirement already satisfied: pyasn1-modules>=0.2.1 in /usr/local/lib/python3.10/dist-packages (from google-auth<3,>=1.6.3->tensorboard<2.13,>=2.12->tensorflow==2.12.0) (0.4.1)\n",
            "Requirement already satisfied: rsa<5,>=3.1.4 in /usr/local/lib/python3.10/dist-packages (from google-auth<3,>=1.6.3->tensorboard<2.13,>=2.12->tensorflow==2.12.0) (4.9)\n",
            "Requirement already satisfied: requests-oauthlib>=0.7.0 in /usr/local/lib/python3.10/dist-packages (from google-auth-oauthlib<1.1,>=0.5->tensorboard<2.13,>=2.12->tensorflow==2.12.0) (1.3.1)\n",
            "Requirement already satisfied: charset-normalizer<4,>=2 in /usr/local/lib/python3.10/dist-packages (from requests<3,>=2.21.0->tensorboard<2.13,>=2.12->tensorflow==2.12.0) (3.3.2)\n",
            "Requirement already satisfied: idna<4,>=2.5 in /usr/local/lib/python3.10/dist-packages (from requests<3,>=2.21.0->tensorboard<2.13,>=2.12->tensorflow==2.12.0) (3.10)\n",
            "Requirement already satisfied: urllib3<3,>=1.21.1 in /usr/local/lib/python3.10/dist-packages (from requests<3,>=2.21.0->tensorboard<2.13,>=2.12->tensorflow==2.12.0) (2.0.7)\n",
            "Requirement already satisfied: certifi>=2017.4.17 in /usr/local/lib/python3.10/dist-packages (from requests<3,>=2.21.0->tensorboard<2.13,>=2.12->tensorflow==2.12.0) (2024.8.30)\n",
            "Requirement already satisfied: MarkupSafe>=2.1.1 in /usr/local/lib/python3.10/dist-packages (from werkzeug>=1.0.1->tensorboard<2.13,>=2.12->tensorflow==2.12.0) (2.1.5)\n",
            "Requirement already satisfied: pyasn1<0.7.0,>=0.4.6 in /usr/local/lib/python3.10/dist-packages (from pyasn1-modules>=0.2.1->google-auth<3,>=1.6.3->tensorboard<2.13,>=2.12->tensorflow==2.12.0) (0.6.1)\n",
            "Requirement already satisfied: oauthlib>=3.0.0 in /usr/local/lib/python3.10/dist-packages (from requests-oauthlib>=0.7.0->google-auth-oauthlib<1.1,>=0.5->tensorboard<2.13,>=2.12->tensorflow==2.12.0) (3.2.2)\n",
            "Requirement already satisfied: imbalanced-learn in /usr/local/lib/python3.10/dist-packages (0.12.3)\n",
            "Requirement already satisfied: numpy>=1.17.3 in /usr/local/lib/python3.10/dist-packages (from imbalanced-learn) (1.23.5)\n",
            "Requirement already satisfied: scipy>=1.5.0 in /usr/local/lib/python3.10/dist-packages (from imbalanced-learn) (1.13.1)\n",
            "Requirement already satisfied: scikit-learn>=1.0.2 in /usr/local/lib/python3.10/dist-packages (from imbalanced-learn) (1.3.2)\n",
            "Requirement already satisfied: joblib>=1.1.1 in /usr/local/lib/python3.10/dist-packages (from imbalanced-learn) (1.4.2)\n",
            "Requirement already satisfied: threadpoolctl>=2.0.0 in /usr/local/lib/python3.10/dist-packages (from imbalanced-learn) (3.5.0)\n",
            "2.12.0\n"
          ]
        }
      ],
      "source": [
        "!pip install tensorflow==2.12.0\n",
        "!pip install -U imbalanced-learn\n",
        "import tensorflow as tf\n",
        "print(tf.__version__)\n"
      ]
    },
    {
      "cell_type": "markdown",
      "metadata": {
        "id": "mzvEI7YJe-O_"
      },
      "source": [
        "# Imports"
      ]
    },
    {
      "cell_type": "code",
      "execution_count": null,
      "metadata": {
        "id": "QPy0BhToe_Xd"
      },
      "outputs": [],
      "source": [
        "import pandas as pd\n",
        "from sklearn.model_selection import train_test_split\n",
        "import matplotlib.pyplot as plt\n",
        "from sklearn.metrics import accuracy_score, mean_absolute_error, mean_squared_error, confusion_matrix, precision_recall_fscore_support, roc_auc_score\n",
        "from tensorflow import keras\n",
        "from tensorflow.python.keras import Sequential\n",
        "from tensorflow.python.keras.layers import Dense, Conv1D, Flatten, Conv2D\n",
        "from sklearn.linear_model import LogisticRegression\n",
        "from sklearn.ensemble import RandomForestClassifier\n",
        "from sklearn.tree import DecisionTreeClassifier\n",
        "from sklearn.svm import SVC\n",
        "import numpy as np\n",
        "import seaborn as sns\n",
        "import xgboost as xgb\n",
        "from sklearn.model_selection import GridSearchCV\n",
        "from imblearn.over_sampling import SMOTE\n",
        "from sklearn.preprocessing import MinMaxScaler\n",
        "from sklearn.ensemble import AdaBoostClassifier\n",
        "from sklearn.model_selection import train_test_split\n",
        "from sklearn.metrics import classification_report\n",
        "from tqdm import tqdm"
      ]
    },
    {
      "cell_type": "code",
      "execution_count": null,
      "metadata": {
        "id": "1_WksWgekRNH"
      },
      "outputs": [],
      "source": [
        "# import warnings\n",
        "\n",
        "# warnings.filterwarnings('ignore')"
      ]
    },
    {
      "cell_type": "code",
      "execution_count": null,
      "metadata": {
        "colab": {
          "base_uri": "https://localhost:8080/"
        },
        "id": "N0o_xT6N3-lu",
        "outputId": "5c2f9f1c-1e59-43c6-926d-f77f49109fc7"
      },
      "outputs": [
        {
          "output_type": "stream",
          "name": "stdout",
          "text": [
            "Mounted at /content/drive\n"
          ]
        }
      ],
      "source": [
        "from google.colab import drive\n",
        "drive.mount('/content/drive')\n",
        "rawData = pd.read_csv('/content/drive/MyDrive/Power_Theft_Detection/Dataset/data.csv')\n",
        "# rawData = rawData.iloc[:, -30:]"
      ]
    },
    {
      "cell_type": "code",
      "execution_count": null,
      "metadata": {
        "colab": {
          "base_uri": "https://localhost:8080/"
        },
        "id": "EHxNdYvq4K2Z",
        "outputId": "b4a2ded1-bb04-474d-9c94-ae79a465d692"
      },
      "outputs": [
        {
          "output_type": "execute_result",
          "data": {
            "text/plain": [
              "Index(['CONS_NO', 'FLAG', '2014/1/1', '2014/1/10', '2014/1/11', '2014/1/12',\n",
              "       '2014/1/13', '2014/1/14', '2014/1/15', '2014/1/16',\n",
              "       ...\n",
              "       '2016/9/28', '2016/9/29', '2016/9/3', '2016/9/30', '2016/9/4',\n",
              "       '2016/9/5', '2016/9/6', '2016/9/7', '2016/9/8', '2016/9/9'],\n",
              "      dtype='object', length=1036)"
            ]
          },
          "metadata": {},
          "execution_count": 5
        }
      ],
      "source": [
        "rawData.columns"
      ]
    },
    {
      "cell_type": "markdown",
      "metadata": {
        "id": "PnxdoINlecvB"
      },
      "source": [
        "# Data Processing"
      ]
    },
    {
      "cell_type": "code",
      "execution_count": null,
      "metadata": {
        "colab": {
          "base_uri": "https://localhost:8080/"
        },
        "id": "mWLmothfdrp5",
        "outputId": "ecd0f9df-d5f3-4021-adbb-6758930ce37e"
      },
      "outputs": [
        {
          "output_type": "stream",
          "name": "stdout",
          "text": [
            "       FLAG                           CONS_NO  2014/1/1  2014/1/10  2014/1/11  \\\n",
            "0         1  0387DD8A07E07FDA6271170F86AD9151  0.000000   0.000000   0.000000   \n",
            "1         1  4B75AC4F2D8434CFF62DB64D0BB43103  0.108235   0.127642   0.142198   \n",
            "2         1  B32AC8CC6D5D805AC053557AB05F5343  0.077443   0.091330   0.101744   \n",
            "3         1  EDFC78B07BA2908B3395C4EB2304665E  0.111323   0.131284   0.146255   \n",
            "4         1  6BCFD78138BC72A9BA1BFB0B79382192  0.141255   0.185367   0.199915   \n",
            "...     ...                               ...       ...        ...        ...   \n",
            "40251     0  F1472871E1AFF49D4289564B6377D76C  0.330066   0.272880   0.741561   \n",
            "40252     0  F3C8BBCD2DC26C1E0249DEEF6A4256B7  0.275157   0.447385   0.402545   \n",
            "40253     0  A9A0FE83467A680FBFB0DBFC910DF227  0.078565   0.113784   0.218086   \n",
            "40254     0  D9A6ADA018FA46A55D5438370456AA45  0.417892   0.342429   0.334017   \n",
            "40255     0  F3406636BAD1E6E0826E8EDDC9A1BF00  0.444454   0.364194   0.355247   \n",
            "\n",
            "       2014/1/12  2014/1/13  2014/1/14  2014/1/15  2014/1/16  ...  2016/9/28  \\\n",
            "0       0.000000   0.000000   0.000000   0.000000   0.000000  ...   0.276942   \n",
            "1       0.170936   0.132867   0.158620   0.144064   0.131748  ...   0.310149   \n",
            "2       0.122307   0.095068   0.113494   0.103080   0.094267  ...   0.173580   \n",
            "3       0.175813   0.136658   0.163145   0.148174   0.135506  ...   0.682138   \n",
            "4       0.238866   0.229011   0.232765   0.186775   0.190060  ...   0.264676   \n",
            "...          ...        ...        ...        ...        ...  ...        ...   \n",
            "40251   0.451588   0.479560   0.463087   0.501626   0.431386  ...   0.396266   \n",
            "40252   0.000000   0.000000   0.000000   0.000000   0.000000  ...   0.490187   \n",
            "40253   0.121911   0.081274   0.111075   0.120557   0.004064  ...   1.000000   \n",
            "40254   0.361233   0.357769   0.305316   0.380285   0.420862  ...   0.522799   \n",
            "40255   0.384193   0.380509   0.324722   0.404456   0.447612  ...   0.073681   \n",
            "\n",
            "       2016/9/29  2016/9/3  2016/9/30  2016/9/4  2016/9/5  2016/9/6  2016/9/7  \\\n",
            "0       0.272564  0.463030   0.207980  0.744898  0.493953  0.724374  0.513110   \n",
            "1       0.372290  0.535575   0.488736  1.000000  0.683372  0.766227  0.589133   \n",
            "2       0.266779  0.314580   0.496438  0.715683  0.495904  0.389620  0.342353   \n",
            "3       0.398074  0.588090   0.518609  0.469474  0.563522  0.627629  0.696342   \n",
            "4       0.518090  0.292833   0.293772  0.394199  0.303158  0.361349  0.260922   \n",
            "...          ...       ...        ...       ...       ...       ...       ...   \n",
            "40251   0.331931  0.315148   0.409320  0.346849  0.351511  0.369227  0.339390   \n",
            "40252   0.496302  0.456557   0.374010  0.337322  0.466748  0.339360  0.325093   \n",
            "40253   0.089402  0.395534   0.319679  0.522864  0.579756  0.456490  0.903498   \n",
            "40254   0.340203  0.559417   0.465892  0.631416  0.448078  0.477768  0.432490   \n",
            "40255   0.117100  0.257883   0.134468  0.439191  0.316828  0.260515  0.216569   \n",
            "\n",
            "       2016/9/8  2016/9/9  \n",
            "0      0.488207  0.408298  \n",
            "1      0.694382  0.575510  \n",
            "2      0.517268  0.425137  \n",
            "3      0.706706  0.664480  \n",
            "4      0.333192  0.238396  \n",
            "...         ...       ...  \n",
            "40251  0.317013  0.408387  \n",
            "40252  0.465729  0.407640  \n",
            "40253  0.330515  0.155776  \n",
            "40254  0.425563  0.378058  \n",
            "40255  0.225253  0.259462  \n",
            "\n",
            "[40256 rows x 1036 columns]\n"
          ]
        }
      ],
      "source": [
        "rawData = pd.read_csv('/content/drive/MyDrive/Power_Theft_Detection/Dataset/data.csv')\n",
        "# rawData = rawData.iloc[:, :2].join(rawData.iloc[:, -30:])\n",
        "# rawData.columns.values[-30:] = [f\"day{i}\" for i in range(1, 31)]\n",
        "infoData = pd.DataFrame()\n",
        "infoData['FLAG'] = rawData['FLAG']\n",
        "infoData['CONS_NO'] = rawData['CONS_NO']\n",
        "data = rawData.drop(['FLAG', 'CONS_NO'], axis=1)\n",
        "\n",
        "dropIndex = data[data.duplicated()].index  # duplicates drop\n",
        "data = data.drop(dropIndex, axis=0)\n",
        "infoData = infoData.drop(dropIndex, axis=0)\n",
        "\n",
        "zeroIndex = data[(data.sum(axis=1) == 0)].index  # zero rows drop\n",
        "data = data.drop(zeroIndex, axis=0)\n",
        "infoData = infoData.drop(zeroIndex, axis=0)\n",
        "\n",
        "# data.columns = pd.to_datetime(data.columns)  # columns reindexing according to dates\n",
        "# data = data.reindex(sorted(data.columns), axis=1)\n",
        "cols = data.columns\n",
        "\n",
        "data.reset_index(inplace=True, drop=True)  # index sorting\n",
        "infoData.reset_index(inplace=True, drop=True)\n",
        "\n",
        "data = data.interpolate(method='linear', limit=2,  # filling NaN values\n",
        "                        limit_direction='both', axis=0).fillna(0)\n",
        "\n",
        "for i in range(data.shape[0]):  # outliers treatment\n",
        "    m = data.loc[i].mean()\n",
        "    st = data.loc[i].std()\n",
        "    data.loc[i] = data.loc[i].mask(data.loc[i] > (m + 3 * st), other=m + 3 * st)\n",
        "\n",
        "data.to_csv(r'visualization.csv', index=False, header=True)  # preprocessed data without scaling\n",
        "# data.to_csv('/content/drive/MyDrive/python/visulaization.csv', index=False)\n",
        "\n",
        "scale = MinMaxScaler()\n",
        "scaled = scale.fit_transform(data.values.T).T\n",
        "mData = pd.DataFrame(data=scaled, columns=data.columns)\n",
        "# print(mData)\n",
        "preprData = pd.concat([infoData, mData], axis=1, sort=False)  # Back to initial format\n",
        "print(preprData)\n",
        "# preprData.to_csv(r'preprocessedR.csv', index=False, header=True)"
      ]
    },
    {
      "cell_type": "markdown",
      "metadata": {
        "id": "VFUmjNIM4lT7"
      },
      "source": [
        "# Data Balancing"
      ]
    },
    {
      "cell_type": "code",
      "execution_count": null,
      "metadata": {
        "id": "OoUgOuiu4kly"
      },
      "outputs": [],
      "source": [
        "# Drop the 'CONS_NO' column\n",
        "preprData = preprData.drop('CONS_NO', axis=1)\n",
        "\n",
        "# Apply SMOTE for data balancing\n",
        "X = preprData.drop('FLAG', axis=1)  # Features\n",
        "y = preprData['FLAG']  # Target (labels)\n",
        "\n",
        "# Instantiate SMOTE to balance the minority class (FLAG = 1)\n",
        "smote = SMOTE()\n",
        "\n",
        "# Resampling the data to balance classes\n",
        "X_resampled, y_resampled = smote.fit_resample(X, y)\n",
        "\n",
        "# Split the resampled data into training and testing sets\n",
        "X_train, X_test, y_train, y_test = train_test_split(X_resampled, y_resampled, test_size=0.3, random_state=42)\n",
        "\n",
        "# class AdaBoostClassifierWithProgress(AdaBoostClassifier):\n",
        "#     def fit(self, X, y):\n",
        "#         self.n_estimators_ = self.n_estimators\n",
        "#         self.staged_predict_proba_ = []\n",
        "#         self.progress_bar = tqdm(total=self.n_estimators, desc=\"Training AdaBoost\", ncols=100)\n",
        "\n",
        "#         super().fit(X, y)\n",
        "\n",
        "#         self.progress_bar.close()\n",
        "#         return self\n",
        "\n",
        "#     def _boost(self, iboost, X, y, sample_weight, random_state):\n",
        "#         self.progress_bar.update(1)\n",
        "#         return super()._boost(iboost, X, y, sample_weight, random_state)\n",
        "\n",
        "# # Instantiate the customized AdaBoost classifier with progress tracking\n",
        "# adaBoost = AdaBoostClassifierWithProgress(n_estimators=100, random_state=42)\n",
        "\n",
        "# # Train the classifier on the balanced data\n",
        "# adaBoost.fit(X_train, y_train)\n",
        "\n",
        "# # Make predictions on the test data\n",
        "# y_pred = adaBoost.predict(X_test)\n",
        "\n",
        "# # Evaluate the classifier performance\n",
        "# print(classification_report(y_test, y_pred))\n",
        "\n",
        "# Combine the resampled data into a DataFrame\n",
        "balancedData = pd.concat([pd.DataFrame(y_resampled, columns=['FLAG']), pd.DataFrame(X_resampled, columns=X.columns)], axis=1)\n",
        "\n",
        "# Save the balanced data\n",
        "balancedData.to_csv(r'balanced_preprocessedR.csv', index=False, header=True)"
      ]
    },
    {
      "cell_type": "markdown",
      "metadata": {
        "id": "NQ7RilD2evcP"
      },
      "source": [
        "# Model Training"
      ]
    },
    {
      "cell_type": "markdown",
      "metadata": {
        "id": "Ehz7FMEif5-w"
      },
      "source": [
        "## Model Paramaneters"
      ]
    },
    {
      "cell_type": "code",
      "execution_count": null,
      "metadata": {
        "id": "SuraedggfQ3F"
      },
      "outputs": [],
      "source": [
        "tf.random.set_seed(1234)\n",
        "epochs_number = 10  # number of epochs for the neural networks\n",
        "test_set_size = 0.1  # percentage of the test size comparing to the whole dataset\n",
        "oversampling_flag = 0  # set to 1 to over-sample the minority class\n",
        "oversampling_percentage = 0.2  # percentage of the minority class after the oversampling comparing to majority class"
      ]
    },
    {
      "cell_type": "markdown",
      "metadata": {
        "id": "kczYlVGpf-im"
      },
      "source": [
        "## Data Loader"
      ]
    },
    {
      "cell_type": "code",
      "execution_count": null,
      "metadata": {
        "id": "_MU4s3T9etXE"
      },
      "outputs": [],
      "source": [
        "# Definition of functions\n",
        "def read_data():\n",
        "    rawData = pd.read_csv('balanced_preprocessedR.csv')\n",
        "\n",
        "    # Setting the target and dropping the unnecessary columns\n",
        "    y = rawData[['FLAG']]\n",
        "    X = rawData.drop(['FLAG'], axis=1)\n",
        "\n",
        "    print('Normal Consumers:                    ', y[y['FLAG'] == 0].count()[0])\n",
        "    print('Consumers with Fraud:                ', y[y['FLAG'] == 1].count()[0])\n",
        "    print('Total Consumers:                     ', y.shape[0])\n",
        "    print(\"Classification assuming no fraud:     %.2f\" % (y[y['FLAG'] == 0].count()[0] / y.shape[0] * 100), \"%\")\n",
        "\n",
        "    # columns reindexing according to dates\n",
        "    # X.columns = pd.to_datetime(X.columns)\n",
        "    # X = X.reindex(X.columns, axis=1)\n",
        "\n",
        "    # Splitting the dataset into training set and test set\n",
        "    X_train, X_test, y_train, y_test = train_test_split(X, y['FLAG'], test_size=test_set_size, random_state=0)\n",
        "    print(\"Test set assuming no fraud:           %.2f\" % (y_test[y_test == 0].count() / y_test.shape[0] * 100), \"%\\n\")\n",
        "\n",
        "    # Oversampling of minority class to encounter the imbalanced learning\n",
        "    # if oversampling_flag == 1:\n",
        "    #     over = SMOTE(sampling_strategy=oversampling_percentage, random_state=0)\n",
        "    #     X_train, y_train = over.fit_resample(X_train, y_train)\n",
        "    #     print(\"Oversampling statistics in training set: \")\n",
        "    #     print('Normal Consumers:                    ', y_train[y_train == 0].count())\n",
        "    #     print('Consumers with Fraud:                ', y_train[y_train == 1].count())\n",
        "    #     print(\"Total Consumers                      \", X_train.shape[0])\n",
        "\n",
        "    return X_train, X_test, y_train, y_test"
      ]
    },
    {
      "cell_type": "markdown",
      "metadata": {
        "id": "7k5tX38cgB3P"
      },
      "source": [
        "## Models"
      ]
    },
    {
      "cell_type": "markdown",
      "metadata": {
        "id": "jjfQDU6DgFBW"
      },
      "source": [
        "### Artificial Neural Network"
      ]
    },
    {
      "cell_type": "code",
      "execution_count": null,
      "metadata": {
        "id": "Ft91wf8Yfg2x"
      },
      "outputs": [],
      "source": [
        "def ANN(X_train, X_test, y_train, y_test):\n",
        "    print('Artificial Neural Network:')\n",
        "    # for i in range(4,100,3):\n",
        "    #     print(\"Epoch:\",i)\n",
        "\n",
        "    # Model creation\n",
        "    model = Sequential()\n",
        "    model.add(Dense(1000, input_dim=1034, activation='relu'))\n",
        "    model.add(Dense(100, activation='relu'))\n",
        "    model.add(Dense(100, activation='relu'))\n",
        "    model.add(Dense(100, activation='relu'))\n",
        "    model.add(Dense(10, activation='relu'))\n",
        "    model.add(Dense(1, activation='sigmoid'))\n",
        "\n",
        "    model.compile(loss=keras.losses.binary_crossentropy,\n",
        "                  optimizer='adam',\n",
        "                  metrics=['accuracy'])\n",
        "\n",
        "    # model.fit(X_train, y_train, validation_split=0, epochs=i, shuffle=True, verbose=0)\n",
        "    model.fit(X_train, y_train, validation_split=0, epochs=epochs_number, shuffle=True, verbose=1)\n",
        "    prediction =(model.predict(X_test) > 0.5).astype(\"int32\")\n",
        "    model.summary()\n",
        "    results(y_test, prediction, save_folder='/content/drive/MyDrive/Power_Theft_Detection/resultsImages')\n"
      ]
    },
    {
      "cell_type": "markdown",
      "metadata": {
        "id": "VFu0OZssgdXC"
      },
      "source": [
        "### 1D - Convolutional Neural Network"
      ]
    },
    {
      "cell_type": "code",
      "execution_count": null,
      "metadata": {
        "id": "bSWG40AsfnTy"
      },
      "outputs": [],
      "source": [
        "from keras.callbacks import Callback\n",
        "from sklearn.metrics import roc_auc_score, accuracy_score\n",
        "import numpy as np\n",
        "\n",
        "# Custom callback to track AUC and accuracy per epoch\n",
        "class MetricsCallback(Callback):\n",
        "    def __init__(self, X_test, y_test):\n",
        "        super(MetricsCallback, self).__init__()\n",
        "        self.X_test = X_test\n",
        "        self.y_test = y_test\n",
        "        self.auc_per_epoch = []\n",
        "        self.accuracy_per_epoch = []\n",
        "\n",
        "    def on_epoch_end(self, epoch, logs=None):\n",
        "        # Make predictions at the end of each epoch\n",
        "        y_pred = (self.model.predict(self.X_test) > 0.5).astype(\"int32\")\n",
        "\n",
        "        # Calculate AUC and Accuracy\n",
        "        auc = roc_auc_score(self.y_test, y_pred)\n",
        "        accuracy = accuracy_score(self.y_test, y_pred) * 100\n",
        "\n",
        "        # Append metrics to the list\n",
        "        self.auc_per_epoch.append(auc)\n",
        "        self.accuracy_per_epoch.append(accuracy)\n",
        "\n",
        "        print(f'Epoch {epoch+1}: AUC = {auc:.4f}, Accuracy = {accuracy:.2f}%')\n",
        "\n",
        "def CNN1D(X_train, X_test, y_train, y_test, epochs_number=10):\n",
        "    print('1D - Convolutional Neural Network:')\n",
        "\n",
        "    # Transforming the dataset into tensors\n",
        "    X_train = X_train.to_numpy().reshape(X_train.shape[0], X_train.shape[1], 1)\n",
        "    X_test = X_test.to_numpy().reshape(X_test.shape[0], X_test.shape[1], 1)\n",
        "\n",
        "    # Model creation\n",
        "    model = Sequential()\n",
        "    model.add(Conv1D(100, kernel_size=7, input_shape=(1034, 1), activation='relu'))\n",
        "    model.add(Flatten())\n",
        "    model.add(Dense(100, activation='relu'))\n",
        "    model.add(Dense(100, activation='relu'))\n",
        "    model.add(Dense(64, activation='relu'))\n",
        "    model.add(Dense(1, activation='sigmoid'))\n",
        "\n",
        "    model.compile(loss=keras.losses.binary_crossentropy,\n",
        "                  optimizer='adam',\n",
        "                  metrics=['accuracy'])\n",
        "\n",
        "    # Instantiate the custom callback to track AUC and accuracy\n",
        "    metrics_callback = MetricsCallback(X_test, y_test)\n",
        "\n",
        "    # Train the model with the custom callback\n",
        "    model.fit(X_train, y_train,\n",
        "              epochs=epochs_number,\n",
        "              validation_split=0,\n",
        "              shuffle=False,\n",
        "              verbose=1,\n",
        "              callbacks=[metrics_callback])\n",
        "\n",
        "    # Get the predictions for the test set\n",
        "    prediction = (model.predict(X_test) > 0.5).astype(\"int32\")\n",
        "\n",
        "    # Call the results function with the tracked AUC and accuracy per epoch\n",
        "    # results_CNN(y_test, prediction, metrics_callback.auc_per_epoch, metrics_callback.accuracy_per_epoch, epochs=epochs_number)\n",
        "    # results_CNN(y_test, prediction, auc_per_epoch, accuracy_per_epoch, save_folder='/content/drive/MyDrive/Power_Theft_Detection/resultsImages')\n",
        "\n",
        "\n",
        "    # Return the trained model\n",
        "    return model\n"
      ]
    },
    {
      "cell_type": "markdown",
      "metadata": {
        "id": "V5v4MAGhgfk_"
      },
      "source": [
        "### 2D - Convolutional Neural Network"
      ]
    },
    {
      "cell_type": "code",
      "execution_count": null,
      "metadata": {
        "id": "5WnxaGlBfqdk"
      },
      "outputs": [],
      "source": [
        "def CNN2D(X_train, X_test, y_train, y_test):\n",
        "    print('2D - Convolutional Neural Network:')\n",
        "\n",
        "    # Transforming every row of the train set into a 2D array and then into a tensor\n",
        "    n_array_X_train = X_train.to_numpy()\n",
        "    n_array_X_train_extended = np.hstack((n_array_X_train, np.zeros(\n",
        "        (n_array_X_train.shape[0], 2))))  # adding two empty columns in order to make the number of columns\n",
        "    # an exact multiple of 7\n",
        "    week = []\n",
        "    for i in range(n_array_X_train_extended.shape[0]):\n",
        "        a = np.reshape(n_array_X_train_extended[i], (-1, 7, 1))\n",
        "        week.append(a)\n",
        "    X_train_reshaped = np.array(week)\n",
        "\n",
        "    # Transforming every row of the train set into a 2D array and then into a tensor\n",
        "    n_array_X_test = X_test.to_numpy()  # X_test to 2D - array\n",
        "    n_array_X_train_extended = np.hstack((n_array_X_test, np.zeros((n_array_X_test.shape[0], 2))))\n",
        "    week2 = []\n",
        "    for i in range(n_array_X_train_extended.shape[0]):\n",
        "        b = np.reshape(n_array_X_train_extended[i], (-1, 7, 1))\n",
        "        week2.append(b)\n",
        "    X_test_reshaped = np.array(week2)\n",
        "\n",
        "    input_shape = (1, 148, 7, 1)  # input shape of the tensor\n",
        "\n",
        "    # Model creation\n",
        "    model = Sequential()\n",
        "    model.add(Conv2D(kernel_size=(7, 3), filters=32, input_shape=input_shape[1:], activation='relu',\n",
        "                     data_format='channels_last'))\n",
        "    model.add(Flatten())\n",
        "    model.add(Dense(100, activation='relu'))\n",
        "    model.add(Dense(100, activation='relu'))\n",
        "    model.add(Dense(64, activation='relu'))\n",
        "    model.add(Dense(1, activation='sigmoid'))\n",
        "\n",
        "    model.compile(loss=keras.losses.binary_crossentropy,\n",
        "                  optimizer='adam',\n",
        "                  metrics=['accuracy'])\n",
        "    # model.summary()\n",
        "    #     model.fit(X_train_reshaped, y_train, validation_split=0.1, epochs=i, shuffle=False, verbose=0)\n",
        "    model.fit(X_train_reshaped, y_train, validation_split=0.1, epochs=epochs_number, shuffle=False, verbose=1)\n",
        "\n",
        "    # prediction = model.predict_classes(X_test)\n",
        "    prediction = (model.predict(X_test_reshaped) > 0.5).astype(\"int32\")\n",
        "    model.summary()\n",
        "    results(y_test, prediction, save_folder='/content/drive/MyDrive/Power_Theft_Detection/resultsImages')\n",
        "    return model\n"
      ]
    },
    {
      "cell_type": "markdown",
      "metadata": {
        "id": "OrDdBYnigixK"
      },
      "source": [
        "### Logistic Regression"
      ]
    },
    {
      "cell_type": "code",
      "execution_count": null,
      "metadata": {
        "id": "hrQYurJgfuJp"
      },
      "outputs": [],
      "source": [
        "def LR(X_train, X_test, y_train, y_test):\n",
        "    print('Logistic Regression:')\n",
        "    '''\n",
        "    # Parameters selection\n",
        "    param_grid = {'C': [0.1,1,10,100],'solver': ['newton-cg', 'lbfgs']}\n",
        "    grid = GridSearchCV(LogisticRegression(max_iter=1000,random_state=0), param_grid=param_grid, n_jobs=-1)\n",
        "    grid.fit(X_train, y_train)\n",
        "    df = pd.DataFrame(grid.cv_results_)\n",
        "    print(df[['param_C', 'param_solver', 'mean_test_score', 'rank_test_score']])\n",
        "    '''\n",
        "    model = LogisticRegression(C=1000, max_iter=1000, n_jobs=-1, solver='newton-cg')\n",
        "    model.fit(X_train, y_train)\n",
        "    prediction = model.predict(X_test)\n",
        "    results(y_test, prediction, save_folder='/content/drive/MyDrive/Power_Theft_Detection/resultsImages')\n"
      ]
    },
    {
      "cell_type": "markdown",
      "metadata": {
        "id": "viRnOgf2glpa"
      },
      "source": [
        "### Decision Tree"
      ]
    },
    {
      "cell_type": "code",
      "execution_count": null,
      "metadata": {
        "id": "hT9-tgRAfwvK"
      },
      "outputs": [],
      "source": [
        "def DT(X_train, X_test, y_train, y_test):\n",
        "    print('Decision Tree:')\n",
        "    model = DecisionTreeClassifier(random_state=0)\n",
        "    model.fit(X_train, y_train)\n",
        "    prediction = model.predict(X_test)\n",
        "    results(y_test, prediction, save_folder='/content/drive/MyDrive/Power_Theft_Detection/resultsImages')\n"
      ]
    },
    {
      "cell_type": "markdown",
      "metadata": {
        "id": "kHICI6i2gpg0"
      },
      "source": [
        "### Random Forest"
      ]
    },
    {
      "cell_type": "code",
      "execution_count": null,
      "metadata": {
        "id": "HPkOgHOUfyY_"
      },
      "outputs": [],
      "source": [
        "def RF(X_train, X_test, y_train, y_test):\n",
        "    from sklearn.ensemble import RandomForestClassifier\n",
        "    from sklearn.decomposition import PCA\n",
        "    from sklearn.metrics import accuracy_score, mean_squared_error, mean_absolute_error, precision_recall_fscore_support, roc_auc_score, confusion_matrix\n",
        "    from sklearn.model_selection import RandomizedSearchCV\n",
        "    import matplotlib.pyplot as plt\n",
        "    import seaborn as sns\n",
        "\n",
        "    # Reduce dimensionality with PCA (adjust n_components based on your dataset)\n",
        "    pca = PCA(n_components=10)  # Change n_components to fit your data\n",
        "    X_train_pca = pca.fit_transform(X_train)\n",
        "    X_test_pca = pca.transform(X_test)\n",
        "\n",
        "    # Parameter grid for RandomizedSearchCV\n",
        "    param_dist = {\n",
        "        'n_estimators': [50, 100],               # Fewer trees for faster performance\n",
        "        'max_depth': [5, 10, None],              # Limit tree depth\n",
        "        'min_samples_split': [2, 10],            # Minimum samples to split a node\n",
        "        'min_samples_leaf': [1, 5],              # Minimum samples at a leaf node\n",
        "        'max_features': ['sqrt', 'log2']         # Use 'sqrt' or 'log2' for feature selection\n",
        "    }\n",
        "\n",
        "    # Instantiate the RandomForestClassifier\n",
        "    model = RandomForestClassifier(random_state=0, n_jobs=-1)\n",
        "\n",
        "    # Use RandomizedSearchCV to tune hyperparameters quickly\n",
        "    random_search = RandomizedSearchCV(model, param_distributions=param_dist, n_iter=10, cv=3, random_state=0, n_jobs=-1)\n",
        "    random_search.fit(X_train_pca, y_train)\n",
        "\n",
        "    # Get the best estimator\n",
        "    best_model = random_search.best_estimator_\n",
        "\n",
        "    # Train the model with the best hyperparameters\n",
        "    best_model.fit(X_train_pca, y_train)\n",
        "\n",
        "    # Predict using the test data\n",
        "    prediction = best_model.predict(X_test_pca)\n",
        "\n",
        "    # Evaluate the results using the results function\n",
        "    results(y_test, prediction, save_folder='/content/drive/MyDrive/Power_Theft_Detection/resultsImages')\n",
        "\n",
        "    # Return the best model\n",
        "    return best_model"
      ]
    },
    {
      "cell_type": "markdown",
      "metadata": {
        "id": "gjlgK9HngrVL"
      },
      "source": [
        "### Support Vector Machine"
      ]
    },
    {
      "cell_type": "code",
      "execution_count": null,
      "metadata": {
        "id": "aLYrCqqwZL9j"
      },
      "outputs": [],
      "source": [
        "# import time\n",
        "# from sklearn.svm import SVC\n",
        "# from sklearn.preprocessing import StandardScaler\n",
        "# from sklearn.metrics import accuracy_score\n",
        "\n",
        "# def SVM(X_train, X_test, y_train, y_test):\n",
        "#     # Scale the data\n",
        "#     scaler = StandardScaler()\n",
        "#     X_train_scaled = scaler.fit_transform(X_train)\n",
        "#     X_test_scaled = scaler.transform(X_test)\n",
        "\n",
        "#     # Track the time for model fitting\n",
        "#     start_time = time.time()\n",
        "\n",
        "#     # Use a linear kernel for faster training with verbose mode to track progress\n",
        "#     model = SVC(kernel='linear', random_state=0, verbose=True)\n",
        "#     print(\"Training started...\")\n",
        "\n",
        "#     # Fit the model\n",
        "#     model.fit(X_train_scaled, y_train)\n",
        "\n",
        "#     # Log the time taken\n",
        "#     training_duration = time.time() - start_time\n",
        "#     print(f\"Training completed in {training_duration:.2f} seconds.\")\n",
        "\n",
        "#     # Make predictions\n",
        "#     prediction = model.predict(X_test_scaled)\n",
        "\n",
        "#     # Evaluate the model\n",
        "#     print(f\"Accuracy: {results(y_test, prediction)}\")\n",
        "\n",
        "# # Call your function with your data\n",
        "# # SVM(X_train, X_test, y_train, y_test)\n"
      ]
    },
    {
      "cell_type": "markdown",
      "metadata": {
        "id": "bVPC2anjF60A"
      },
      "source": [
        "### XGBoost"
      ]
    },
    {
      "cell_type": "code",
      "execution_count": null,
      "metadata": {
        "id": "Lk34dLr1qvC4"
      },
      "outputs": [],
      "source": [
        "def XGB(X_train, X_test, y_train, y_test):\n",
        "    # import XGBClassifier\n",
        "    from xgboost import XGBClassifier\n",
        "\n",
        "    # declare parameters\n",
        "    params = {\n",
        "                'objective':'binary:logistic',\n",
        "                'max_depth': 4,\n",
        "                'alpha': 10,\n",
        "                'learning_rate': 1.0,\n",
        "                'n_estimators':100\n",
        "            }\n",
        "    # instantiate the classifier\n",
        "    model = XGBClassifier(**params)\n",
        "    model.fit(X_train, y_train)\n",
        "    prediction = model.predict(X_test)\n",
        "    results(y_test, prediction, save_folder='/content/drive/MyDrive/Power_Theft_Detection/resultsImages')\n",
        "\n",
        "    return model\n",
        "# fit the classifier to the training data\n",
        "# xgb_clf.fit(X_train, y_train)"
      ]
    },
    {
      "cell_type": "markdown",
      "metadata": {
        "id": "xYxvZN0Rguxs"
      },
      "source": [
        "## Results"
      ]
    },
    {
      "cell_type": "code",
      "execution_count": null,
      "metadata": {
        "id": "YQXf92KUfdyL"
      },
      "outputs": [],
      "source": [
        "import os  # Importing os to handle folder paths\n",
        "\n",
        "def results(y_test, prediction, save_folder=None):\n",
        "    # Calculate metrics\n",
        "    accuracy = 100 * accuracy_score(y_test, prediction)\n",
        "    rmse = mean_squared_error(y_test, prediction, squared=False)\n",
        "    mae = mean_absolute_error(y_test, prediction)\n",
        "    f1 = 100 * precision_recall_fscore_support(y_test, prediction, average='weighted')[2]  # Weighted F1 score\n",
        "    auc = 100 * roc_auc_score(y_test, prediction)\n",
        "\n",
        "    # Print metrics\n",
        "    print(f\"Accuracy: {accuracy:.2f}%\")\n",
        "    print(f\"RMSE: {rmse:.4f}\")\n",
        "    print(f\"MAE: {mae:.4f}\")\n",
        "    print(f\"F1 Score (Weighted): {f1:.2f}%\")\n",
        "    print(f\"AUC: {auc:.2f}%\")\n",
        "\n",
        "    # Generate the confusion matrix\n",
        "    cm = confusion_matrix(y_test, prediction)\n",
        "\n",
        "    # Plot the confusion matrix as a heatmap\n",
        "    plt.figure(figsize=(8, 6))\n",
        "    sns.heatmap(cm, annot=True, fmt='d', cmap='Blues', cbar=False, annot_kws={\"size\": 16})\n",
        "\n",
        "    # Add labels to the plot\n",
        "    plt.xlabel('Predicted Labels', fontsize=14)\n",
        "    plt.ylabel('True Labels', fontsize=14)\n",
        "    plt.title('Confusion Matrix', fontsize=16)\n",
        "\n",
        "    # Ensure the plot is displayed properly\n",
        "    plt.xticks(ticks=[0.5, 1.5], labels=['Normal (0)', 'Fraud (1)'], fontsize=12)\n",
        "    plt.yticks(ticks=[0.5, 1.5], labels=['Normal (0)', 'Fraud (1)'], fontsize=12, rotation=0)\n",
        "\n",
        "    # Save the confusion matrix plot as a PDF\n",
        "    if save_folder is not None:\n",
        "        if not os.path.exists(save_folder):\n",
        "            os.makedirs(save_folder)\n",
        "        cm_pdf_path = os.path.join(save_folder, 'confusion_matrix.pdf')\n",
        "        plt.savefig(cm_pdf_path, format='pdf')\n",
        "\n",
        "    plt.show()\n",
        "\n",
        "    # Bar plot for the metrics\n",
        "    metrics = ['Accuracy', 'RMSE', 'MAE', 'F1 Score', 'AUC']\n",
        "    values = [accuracy, rmse, mae, f1, auc]\n",
        "\n",
        "    plt.figure(figsize=(10, 6))\n",
        "    sns.barplot(x=metrics, y=values, palette='viridis')\n",
        "\n",
        "    # Add value labels on top of the bars\n",
        "    for i, value in enumerate(values):\n",
        "        plt.text(i, value + 1, f'{value:.2f}', ha='center', fontsize=12)\n",
        "\n",
        "    plt.title('Model Performance Metrics', fontsize=16)\n",
        "    plt.ylabel('Value', fontsize=14)\n",
        "    plt.ylim(0, max(values) + 5)  # Adjust ylim for better visualization\n",
        "\n",
        "    # Save the bar plot as a PDF\n",
        "    if save_folder is not None:\n",
        "        bar_pdf_path = os.path.join(save_folder, 'model_performance_metrics.pdf')\n",
        "        plt.savefig(bar_pdf_path, format='pdf')\n",
        "\n",
        "    plt.show()\n"
      ]
    },
    {
      "cell_type": "code",
      "execution_count": null,
      "metadata": {
        "id": "kyjX1tUdwFox"
      },
      "outputs": [],
      "source": [
        "import os\n",
        "import matplotlib.pyplot as plt\n",
        "import seaborn as sns\n",
        "from sklearn.metrics import accuracy_score, mean_squared_error, mean_absolute_error, precision_recall_fscore_support, roc_auc_score, confusion_matrix\n",
        "\n",
        "\n",
        "def results_CNN(y_test, prediction, auc_per_epoch, accuracy_per_epoch, epochs=epochs_number, save_folder=None):\n",
        "    # Calculate metrics\n",
        "    accuracy = 100 * accuracy_score(y_test, prediction)\n",
        "    rmse = mean_squared_error(y_test, prediction, squared=False)\n",
        "    mae = mean_absolute_error(y_test, prediction)\n",
        "    f1 = 100 * precision_recall_fscore_support(y_test, prediction, average='weighted')[2]  # Weighted F1 score\n",
        "    auc = 100 * roc_auc_score(y_test, prediction)\n",
        "\n",
        "    # Print metrics\n",
        "    print(f\"Accuracy: {accuracy:.2f}%\")\n",
        "    print(f\"RMSE: {rmse:.4f}\")\n",
        "    print(f\"MAE: {mae:.4f}\")\n",
        "    print(f\"F1 Score (Weighted): {f1:.2f}%\")\n",
        "    print(f\"AUC: {auc:.2f}%\")\n",
        "\n",
        "    # Create save folder if provided\n",
        "    if save_folder is not None:\n",
        "        if not os.path.exists(save_folder):\n",
        "            os.makedirs(save_folder)\n",
        "\n",
        "    # Generate the confusion matrix\n",
        "    cm = confusion_matrix(y_test, prediction)\n",
        "\n",
        "    # Plot the confusion matrix as a heatmap\n",
        "    plt.figure(figsize=(8, 6))\n",
        "    sns.heatmap(cm, annot=True, fmt='d', cmap='Blues', cbar=False, annot_kws={\"size\": 16})\n",
        "\n",
        "    # Add labels to the plot\n",
        "    plt.xlabel('Predicted Labels', fontsize=14)\n",
        "    plt.ylabel('True Labels', fontsize=14)\n",
        "    plt.title('Confusion Matrix', fontsize=16)\n",
        "\n",
        "    # Save confusion matrix plot as a PDF before displaying it\n",
        "    if save_folder is not None:\n",
        "        cm_pdf_path = os.path.join(save_folder, 'confusion_matrix.pdf')\n",
        "        plt.savefig(cm_pdf_path, format='pdf')  # Save plot\n",
        "\n",
        "    plt.show()\n",
        "\n",
        "    # Bar plot for the metrics\n",
        "    metrics = ['Accuracy', 'RMSE', 'MAE', 'F1 Score', 'AUC']\n",
        "    values = [accuracy, rmse, mae, f1, auc]\n",
        "\n",
        "    plt.figure(figsize=(10, 6))\n",
        "    sns.barplot(x=metrics, y=values, palette='viridis')\n",
        "\n",
        "    # Add value labels on top of the bars\n",
        "    for i, value in enumerate(values):\n",
        "        plt.text(i, value + 1, f'{value:.2f}', ha='center', fontsize=12)\n",
        "\n",
        "    plt.title('Model Performance Metrics', fontsize=16)\n",
        "    plt.ylabel('Value', fontsize=14)\n",
        "    plt.ylim(0, max(values) + 5)  # Adjust ylim for better visualization\n",
        "\n",
        "    # Save bar plot as a PDF before displaying it\n",
        "    if save_folder is not None:\n",
        "        bar_pdf_path = os.path.join(save_folder, 'model_performance_metrics.pdf')\n",
        "        plt.savefig(bar_pdf_path, format='pdf')  # Save plot\n",
        "\n",
        "    plt.show()\n",
        "\n",
        "    # Plot AUC vs. Epoch\n",
        "    plt.figure(figsize=(10, 6))\n",
        "    plt.plot(range(1, epochs+1), auc_per_epoch, marker='o', color='b', label='AUC')\n",
        "    plt.title('AUC vs Epoch', fontsize=16)\n",
        "    plt.xlabel('Epoch', fontsize=14)\n",
        "    plt.ylabel('AUC', fontsize=14)\n",
        "    plt.xticks(range(1, epochs+1))\n",
        "    plt.grid(True)\n",
        "    plt.legend()\n",
        "\n",
        "    # Save AUC vs. Epoch plot as a PDF before displaying it\n",
        "    if save_folder is not None:\n",
        "        auc_pdf_path = os.path.join(save_folder, 'auc_vs_epoch.pdf')\n",
        "        plt.savefig(auc_pdf_path, format='pdf')  # Save plot\n",
        "\n",
        "    plt.show()\n",
        "\n",
        "    # Plot Accuracy vs. Epoch\n",
        "    plt.figure(figsize=(10, 6))\n",
        "    plt.plot(range(1, epochs+1), accuracy_per_epoch, marker='o', color='g', label='Accuracy')\n",
        "    plt.title('Accuracy vs Epoch', fontsize=16)\n",
        "    plt.xlabel('Epoch', fontsize=14)\n",
        "    plt.ylabel('Accuracy (%)', fontsize=14)\n",
        "    plt.xticks(range(1, epochs+1))\n",
        "    plt.grid(True)\n",
        "    plt.legend()\n",
        "\n",
        "    # Save Accuracy vs. Epoch plot as a PDF before displaying it\n",
        "    if save_folder is not None:\n",
        "        acc_pdf_path = os.path.join(save_folder, 'accuracy_vs_epoch.pdf')\n",
        "        plt.savefig(acc_pdf_path, format='pdf')  # Save plot\n",
        "\n",
        "    plt.show()\n"
      ]
    },
    {
      "cell_type": "markdown",
      "metadata": {
        "id": "y7SJsfLVgxKN"
      },
      "source": [
        "# Main"
      ]
    },
    {
      "cell_type": "code",
      "execution_count": null,
      "metadata": {
        "colab": {
          "base_uri": "https://localhost:8080/",
          "height": 1000
        },
        "id": "WFIUf-QqfZJl",
        "outputId": "e7e1dae6-80d3-47dc-dcb6-975e2b645f39"
      },
      "outputs": [
        {
          "output_type": "stream",
          "name": "stderr",
          "text": [
            "<ipython-input-9-c9dfa6ea4ca9>:9: FutureWarning: Series.__getitem__ treating keys as positions is deprecated. In a future version, integer keys will always be treated as labels (consistent with DataFrame behavior). To access a value by position, use `ser.iloc[pos]`\n",
            "  print('Normal Consumers:                    ', y[y['FLAG'] == 0].count()[0])\n",
            "<ipython-input-9-c9dfa6ea4ca9>:10: FutureWarning: Series.__getitem__ treating keys as positions is deprecated. In a future version, integer keys will always be treated as labels (consistent with DataFrame behavior). To access a value by position, use `ser.iloc[pos]`\n",
            "  print('Consumers with Fraud:                ', y[y['FLAG'] == 1].count()[0])\n",
            "<ipython-input-9-c9dfa6ea4ca9>:12: FutureWarning: Series.__getitem__ treating keys as positions is deprecated. In a future version, integer keys will always be treated as labels (consistent with DataFrame behavior). To access a value by position, use `ser.iloc[pos]`\n",
            "  print(\"Classification assuming no fraud:     %.2f\" % (y[y['FLAG'] == 0].count()[0] / y.shape[0] * 100), \"%\")\n"
          ]
        },
        {
          "output_type": "stream",
          "name": "stdout",
          "text": [
            "Normal Consumers:                     36677\n",
            "Consumers with Fraud:                 36677\n",
            "Total Consumers:                      73354\n",
            "Classification assuming no fraud:     50.00 %\n",
            "Test set assuming no fraud:           49.39 %\n",
            "\n",
            "2D - Convolutional Neural Network:\n",
            "Epoch 1/10\n",
            "1857/1857 [==============================] - 111s 58ms/step - loss: 0.3005 - accuracy: 0.8711 - val_loss: 0.1633 - val_accuracy: 0.9405\n",
            "Epoch 2/10\n",
            "1857/1857 [==============================] - 105s 57ms/step - loss: 0.0954 - accuracy: 0.9662 - val_loss: 0.1036 - val_accuracy: 0.9656\n",
            "Epoch 3/10\n",
            "1857/1857 [==============================] - 103s 56ms/step - loss: 0.0490 - accuracy: 0.9831 - val_loss: 0.0938 - val_accuracy: 0.9720\n",
            "Epoch 4/10\n",
            "1857/1857 [==============================] - 105s 57ms/step - loss: 0.0299 - accuracy: 0.9901 - val_loss: 0.1007 - val_accuracy: 0.9712\n",
            "Epoch 5/10\n",
            "1857/1857 [==============================] - 105s 56ms/step - loss: 0.0234 - accuracy: 0.9921 - val_loss: 0.0933 - val_accuracy: 0.9693\n",
            "Epoch 6/10\n",
            "1857/1857 [==============================] - 105s 57ms/step - loss: 0.0211 - accuracy: 0.9925 - val_loss: 0.0910 - val_accuracy: 0.9761\n",
            "Epoch 7/10\n",
            "1857/1857 [==============================] - 104s 56ms/step - loss: 0.0175 - accuracy: 0.9940 - val_loss: 0.0738 - val_accuracy: 0.9792\n",
            "Epoch 8/10\n",
            "1857/1857 [==============================] - 103s 56ms/step - loss: 0.0157 - accuracy: 0.9944 - val_loss: 0.0753 - val_accuracy: 0.9796\n",
            "Epoch 9/10\n",
            "1857/1857 [==============================] - 104s 56ms/step - loss: 0.0104 - accuracy: 0.9967 - val_loss: 0.0731 - val_accuracy: 0.9818\n",
            "Epoch 10/10\n",
            "1857/1857 [==============================] - 105s 56ms/step - loss: 0.0111 - accuracy: 0.9961 - val_loss: 0.0956 - val_accuracy: 0.9762\n",
            "Model: \"sequential_2\"\n",
            "_________________________________________________________________\n",
            "Layer (type)                 Output Shape              Param #   \n",
            "=================================================================\n",
            "conv2d_1 (Conv2D)            (None, 142, 5, 32)        704       \n",
            "_________________________________________________________________\n",
            "flatten_2 (Flatten)          (None, 22720)             0         \n",
            "_________________________________________________________________\n",
            "dense_8 (Dense)              (None, 100)               2272100   \n",
            "_________________________________________________________________\n",
            "dense_9 (Dense)              (None, 100)               10100     \n",
            "_________________________________________________________________\n",
            "dense_10 (Dense)             (None, 64)                6464      \n",
            "_________________________________________________________________\n",
            "dense_11 (Dense)             (None, 1)                 65        \n",
            "=================================================================\n",
            "Total params: 2,289,433\n",
            "Trainable params: 2,289,433\n",
            "Non-trainable params: 0\n",
            "_________________________________________________________________\n",
            "Accuracy: 97.68%\n",
            "RMSE: 0.1522\n",
            "MAE: 0.0232\n",
            "F1 Score (Weighted): 97.68%\n",
            "AUC: 97.66%\n"
          ]
        },
        {
          "output_type": "display_data",
          "data": {
            "text/plain": [
              "<Figure size 800x600 with 1 Axes>"
            ],
            "image/png": "[encoded data removed]"
          },
          "metadata": {}
        },
        {
          "output_type": "stream",
          "name": "stderr",
          "text": [
            "<ipython-input-11-e6d4f850b62a>:48: FutureWarning: \n",
            "\n",
            "Passing `palette` without assigning `hue` is deprecated and will be removed in v0.14.0. Assign the `x` variable to `hue` and set `legend=False` for the same effect.\n",
            "\n",
            "  sns.barplot(x=metrics, y=values, palette='viridis')\n"
          ]
        },
        {
          "output_type": "display_data",
          "data": {
            "text/plain": [
              "<Figure size 1000x600 with 1 Axes>"
            ],
            "image/png": "[encoded data removed]"
          },
          "metadata": {}
        }
      ],
      "source": [
        "# ----Main----\n",
        "X_train, X_test, y_train, y_test = read_data()\n",
        "\n",
        "# Uncomment any model to test\n",
        "# ANN(X_train, X_test, y_train, y_test)\n",
        "# model = CNN1D(X_train, X_test, y_train, y_test)\n",
        "model = CNN2D(X_train, X_test, y_train, y_test)\n",
        "# RF(X_train, X_test, y_train, y_test)\n",
        "# LR(X_train, X_test, y_train, y_test)\n",
        "# DT(X_train, X_test, y_train, y_test)\n",
        "# model = XGB(X_train, X_test, y_train, y_test)\n",
        "# SVM(X_train, X_test, y_train, y_test)"
      ]
    },
    {
      "cell_type": "code",
      "execution_count": null,
      "metadata": {
        "id": "ndRJaPxjkKYy"
      },
      "outputs": [],
      "source": [
        "# Assuming 'model' is your trained Keras model\n",
        "model.save('trained_model_2D.h5')"
      ]
    },
    {
      "cell_type": "code",
      "source": [
        "from tensorflow.keras.models import load_model\n",
        "\n",
        "# Load the model\n",
        "model = load_model('trained_model_2D.h5')"
      ],
      "metadata": {
        "id": "CLj70-AOzDG6"
      },
      "execution_count": null,
      "outputs": []
    },
    {
      "cell_type": "code",
      "source": [
        "# AUC per epoch\n",
        "auc_per_epoch = [0.9671, 0.9816, 0.9819, 0.9821, 0.9840, 0.9828, 0.9863, 0.9720, 0.9850, 0.9798]\n",
        "\n",
        "# Accuracy per epoch (converted to percentages as they are between 0 and 1 in your logs)\n",
        "accuracy_per_epoch = [96.73, 98.16, 98.19, 98.23, 98.41, 98.30, 98.64, 97.19, 98.51, 98.00]\n",
        "\n",
        "# Number of epochs\n",
        "epochs_number = 10\n",
        "\n",
        "# Predict using the loaded model\n",
        "predictions_prob = model.predict(X_test)\n",
        "predictions = (predictions_prob > 0.5).astype(\"int32\")\n",
        "\n",
        "# Call the results_CNN function with the provided values\n",
        "results_CNN(y_test, predictions, auc_per_epoch, accuracy_per_epoch, epochs=epochs_number,\n",
        "            save_folder='/content/drive/MyDrive/Power_Theft_Detection/resultsImages')\n",
        "\n"
      ],
      "metadata": {
        "colab": {
          "base_uri": "https://localhost:8080/",
          "height": 1000
        },
        "id": "tMmMNqvizD8t",
        "outputId": "770da048-3b2d-493b-e045-133f32e70ffe"
      },
      "execution_count": null,
      "outputs": [
        {
          "output_type": "stream",
          "name": "stdout",
          "text": [
            "230/230 [==============================] - 19s 78ms/step\n",
            "Accuracy: 98.00%\n",
            "RMSE: 0.1416\n",
            "MAE: 0.0200\n",
            "F1 Score (Weighted): 98.00%\n",
            "AUC: 97.98%\n"
          ]
        },
        {
          "output_type": "display_data",
          "data": {
            "text/plain": [
              "<Figure size 800x600 with 1 Axes>"
            ],
            "image/png": "[encoded data removed]"
          },
          "metadata": {}
        },
        {
          "output_type": "stream",
          "name": "stderr",
          "text": [
            "<ipython-input-15-12bda57e6493>:51: FutureWarning: \n",
            "\n",
            "Passing `palette` without assigning `hue` is deprecated and will be removed in v0.14.0. Assign the `x` variable to `hue` and set `legend=False` for the same effect.\n",
            "\n",
            "  sns.barplot(x=metrics, y=values, palette='viridis')\n"
          ]
        },
        {
          "output_type": "display_data",
          "data": {
            "text/plain": [
              "<Figure size 1000x600 with 1 Axes>"
            ],
            "image/png": "[encoded data removed]"
          },
          "metadata": {}
        },
        {
          "output_type": "display_data",
          "data": {
            "text/plain": [
              "<Figure size 1000x600 with 1 Axes>"
            ],
            "image/png": "[encoded data removed]"
          },
          "metadata": {}
        },
        {
          "output_type": "display_data",
          "data": {
            "text/plain": [
              "<Figure size 1000x600 with 1 Axes>"
            ],
            "image/png": "[encoded data removed]"
          },
          "metadata": {}
        }
      ]
    },
    {
      "cell_type": "markdown",
      "metadata": {
        "id": "Lm6v9W5M-7Mq"
      },
      "source": [
        "# **Prediction Functions**"
      ]
    },
    {
      "cell_type": "markdown",
      "metadata": {
        "id": "F2pjWW5z_EX-"
      },
      "source": [
        "## Process Input"
      ]
    },
    {
      "cell_type": "code",
      "execution_count": null,
      "metadata": {
        "id": "fFkWzfwgrnno"
      },
      "outputs": [],
      "source": [
        "def preprocess_input(input_data):\n",
        "    # rawData = input_data\n",
        "\n",
        "    infoData = pd.DataFrame()\n",
        "    infoData['FLAG'] = rawData['FLAG']\n",
        "    infoData['CONS_NO'] = rawData['CONS_NO']\n",
        "    data = rawData.drop(['FLAG', 'CONS_NO'], axis=1)\n",
        "\n",
        "    # data = input_data\n",
        "\n",
        "    dropIndex = data[data.duplicated()].index  # duplicates drop\n",
        "    data = data.drop(dropIndex, axis=0)\n",
        "    # infoData = infoData.drop(dropIndex, axis=0)\n",
        "\n",
        "    zeroIndex = data[(data.sum(axis=1) == 0)].index  # zero rows drop\n",
        "    data = data.drop(zeroIndex, axis=0)\n",
        "    # infoData = infoData.drop(zeroIndex, axis=0)\n",
        "\n",
        "    # data.columns = pd.to_datetime(data.columns)  # columns reindexing according to dates\n",
        "    # data = data.reindex(sorted(data.columns), axis=1)\n",
        "    cols = data.columns\n",
        "\n",
        "    data.reset_index(inplace=True, drop=True)  # index sorting\n",
        "    # infoData.reset_index(inplace=True, drop=True)\n",
        "\n",
        "    data = data.interpolate(method='linear', limit=2,  # filling NaN values\n",
        "                            limit_direction='both', axis=0).fillna(0)\n",
        "\n",
        "    for i in range(data.shape[0]):  # outliers treatment\n",
        "        m = data.loc[i].mean()\n",
        "        st = data.loc[i].std()\n",
        "        data.loc[i] = data.loc[i].mask(data.loc[i] > (m + 3 * st), other=m + 3 * st)\n",
        "\n",
        "    scale = MinMaxScaler()\n",
        "    scaled = scale.fit_transform(data.values.T).T\n",
        "    mData = pd.DataFrame(data=scaled, columns=data.columns)\n",
        "    preprData = pd.concat([infoData, mData], axis=1, sort=False)  # Back to initial format\n",
        "\n",
        "\n",
        "    # Setting the target and dropping the unnecessary columns\n",
        "    y = preprData[['FLAG']]\n",
        "    X = preprData.drop(['FLAG', 'CONS_NO'], axis=1)\n",
        "\n",
        "    # columns reindexing according to dates\n",
        "    # X.columns = pd.to_datetime(X.columns)\n",
        "    # X = X.reindex(X.columns, axis=1)\n",
        "\n",
        "    # Splitting the dataset into training set and test set\n",
        "    X_train, X_test, y_train, y_test = train_test_split(X, y['FLAG'], test_size=0.5, random_state=0)\n",
        "    return  X_test, y_test"
      ]
    },
    {
      "cell_type": "markdown",
      "metadata": {
        "id": "Wr8nNyCi_LeQ"
      },
      "source": [
        "## Predict"
      ]
    },
    {
      "cell_type": "code",
      "execution_count": null,
      "metadata": {
        "id": "_R6kE32p8__z"
      },
      "outputs": [],
      "source": [
        "def predict(input_data, model):\n",
        "    # Ensure the input data is reshaped to match the model's expected input shape\n",
        "    if len(input_data.shape) == 2:\n",
        "        # Reshape from (batch_size, 1036, 1) to (batch_size, 148, 7, 1)\n",
        "        input_data = input_data.reshape((input_data.shape[0], 148, 7, 1))\n",
        "\n",
        "    # Perform prediction\n",
        "    prediction = model.predict(input_data)\n",
        "\n",
        "    # Convert probabilities to binary predictions\n",
        "    binary_prediction = (prediction > 0.5).astype(\"int32\")\n",
        "\n",
        "    return binary_prediction\n"
      ]
    },
    {
      "cell_type": "markdown",
      "metadata": {
        "id": "EZvKglmO_dbC"
      },
      "source": [
        "## Load Model"
      ]
    },
    {
      "cell_type": "code",
      "execution_count": null,
      "metadata": {
        "id": "YqA7J-fe7o-b"
      },
      "outputs": [],
      "source": [
        "from tensorflow.keras.models import load_model\n",
        "\n",
        "loaded_model = load_model('trained_model.h5')"
      ]
    },
    {
      "cell_type": "markdown",
      "metadata": {
        "id": "GF-gdJUU_5fG"
      },
      "source": [
        "## Take sample inputs"
      ]
    },
    {
      "cell_type": "code",
      "execution_count": null,
      "metadata": {
        "id": "vWijkKS07std"
      },
      "outputs": [],
      "source": [
        "df = pd.read_csv('/content/drive/MyDrive/Power_Theft_Detection/Dataset/data.csv')"
      ]
    },
    {
      "cell_type": "code",
      "execution_count": null,
      "metadata": {
        "id": "wY4nJ0zb_FLF"
      },
      "outputs": [],
      "source": [
        "# df = df.iloc[:, -30:]"
      ]
    },
    {
      "cell_type": "code",
      "execution_count": null,
      "metadata": {
        "id": "5fxg9Nw8Aebz"
      },
      "outputs": [],
      "source": [
        "# df.columns.values[-30:] = [f\"day{i}\" for i in range(1, 31)]"
      ]
    },
    {
      "cell_type": "code",
      "execution_count": null,
      "metadata": {
        "id": "3jAjhoow-_Rg"
      },
      "outputs": [],
      "source": [
        "sampled_df = df.sample(n=3000)"
      ]
    },
    {
      "cell_type": "code",
      "execution_count": null,
      "metadata": {
        "colab": {
          "base_uri": "https://localhost:8080/"
        },
        "id": "uYIyYEFlEkQP",
        "outputId": "5b70be96-b3ee-492b-ff7b-6b833d6c7b3c"
      },
      "outputs": [
        {
          "output_type": "execute_result",
          "data": {
            "text/plain": [
              "(3000, 1036)"
            ]
          },
          "metadata": {},
          "execution_count": 41
        }
      ],
      "source": [
        "sampled_df.shape"
      ]
    },
    {
      "cell_type": "code",
      "execution_count": null,
      "metadata": {
        "colab": {
          "base_uri": "https://localhost:8080/",
          "height": 255
        },
        "id": "eD2sF0yHJhCs",
        "outputId": "d1773955-0cb7-4fb2-d2d1-19698e386de9"
      },
      "outputs": [
        {
          "output_type": "execute_result",
          "data": {
            "text/plain": [
              "                                CONS_NO  FLAG  2014/1/1  2014/1/10  2014/1/11  \\\n",
              "7392   D73835C222213642C11952777DCDCBDE     0       NaN        NaN        NaN   \n",
              "37360  3D11A00446B370369325CEEDF4B301BE     0       NaN        NaN        NaN   \n",
              "22517  AEEA440A8C84F51B9B1ACF5656F5AFF1     0       NaN        NaN        NaN   \n",
              "21729  C37C79063FE7739CACC59536970701CF     0       NaN        NaN        NaN   \n",
              "38261  E1615CDF7140EFB24ADB8AC2B8B3E221     0       NaN        NaN        NaN   \n",
              "\n",
              "       2014/1/12  2014/1/13  2014/1/14  2014/1/15  2014/1/16  ...  2016/9/28  \\\n",
              "7392         NaN        NaN        NaN        NaN        NaN  ...       4.71   \n",
              "37360        NaN        NaN        NaN        NaN        NaN  ...       7.09   \n",
              "22517        NaN        NaN        NaN        NaN        NaN  ...       3.13   \n",
              "21729        NaN        NaN        NaN        NaN        NaN  ...       2.00   \n",
              "38261        NaN        NaN        NaN        NaN        NaN  ...       0.96   \n",
              "\n",
              "       2016/9/29  2016/9/3  2016/9/30  2016/9/4  2016/9/5  2016/9/6  2016/9/7  \\\n",
              "7392        6.46      5.09       6.57      4.47      5.64      2.89      4.47   \n",
              "37360       6.43      6.68       5.34      9.12      8.81      8.26      8.35   \n",
              "22517       2.28      3.24       2.07      2.40      3.32      3.52      2.47   \n",
              "21729       2.15      2.46       3.54      2.69      2.33      2.25      2.26   \n",
              "38261       0.87      0.89       0.88      0.89      0.90      0.88      0.89   \n",
              "\n",
              "       2016/9/8  2016/9/9  \n",
              "7392       5.00      4.30  \n",
              "37360      8.98     10.48  \n",
              "22517      3.39      2.30  \n",
              "21729      2.36      2.39  \n",
              "38261      0.88      0.86  \n",
              "\n",
              "[5 rows x 1036 columns]"
            ],
            "text/html": [
              "\n",
              "  <div id=\"df-2b568554-45b3-4af2-af45-e01d7e0dcec2\" class=\"colab-df-container\">\n",
              "    <div>\n",
              "<style scoped>\n",
              "    .dataframe tbody tr th:only-of-type {\n",
              "        vertical-align: middle;\n",
              "    }\n",
              "\n",
              "    .dataframe tbody tr th {\n",
              "        vertical-align: top;\n",
              "    }\n",
              "\n",
              "    .dataframe thead th {\n",
              "        text-align: right;\n",
              "    }\n",
              "</style>\n",
              "<table border=\"1\" class=\"dataframe\">\n",
              "  <thead>\n",
              "    <tr style=\"text-align: right;\">\n",
              "      <th></th>\n",
              "      <th>CONS_NO</th>\n",
              "      <th>FLAG</th>\n",
              "      <th>2014/1/1</th>\n",
              "      <th>2014/1/10</th>\n",
              "      <th>2014/1/11</th>\n",
              "      <th>2014/1/12</th>\n",
              "      <th>2014/1/13</th>\n",
              "      <th>2014/1/14</th>\n",
              "      <th>2014/1/15</th>\n",
              "      <th>2014/1/16</th>\n",
              "      <th>...</th>\n",
              "      <th>2016/9/28</th>\n",
              "      <th>2016/9/29</th>\n",
              "      <th>2016/9/3</th>\n",
              "      <th>2016/9/30</th>\n",
              "      <th>2016/9/4</th>\n",
              "      <th>2016/9/5</th>\n",
              "      <th>2016/9/6</th>\n",
              "      <th>2016/9/7</th>\n",
              "      <th>2016/9/8</th>\n",
              "      <th>2016/9/9</th>\n",
              "    </tr>\n",
              "  </thead>\n",
              "  <tbody>\n",
              "    <tr>\n",
              "      <th>7392</th>\n",
              "      <td>D73835C222213642C11952777DCDCBDE</td>\n",
              "      <td>0</td>\n",
              "      <td>NaN</td>\n",
              "      <td>NaN</td>\n",
              "      <td>NaN</td>\n",
              "      <td>NaN</td>\n",
              "      <td>NaN</td>\n",
              "      <td>NaN</td>\n",
              "      <td>NaN</td>\n",
              "      <td>NaN</td>\n",
              "      <td>...</td>\n",
              "      <td>4.71</td>\n",
              "      <td>6.46</td>\n",
              "      <td>5.09</td>\n",
              "      <td>6.57</td>\n",
              "      <td>4.47</td>\n",
              "      <td>5.64</td>\n",
              "      <td>2.89</td>\n",
              "      <td>4.47</td>\n",
              "      <td>5.00</td>\n",
              "      <td>4.30</td>\n",
              "    </tr>\n",
              "    <tr>\n",
              "      <th>37360</th>\n",
              "      <td>3D11A00446B370369325CEEDF4B301BE</td>\n",
              "      <td>0</td>\n",
              "      <td>NaN</td>\n",
              "      <td>NaN</td>\n",
              "      <td>NaN</td>\n",
              "      <td>NaN</td>\n",
              "      <td>NaN</td>\n",
              "      <td>NaN</td>\n",
              "      <td>NaN</td>\n",
              "      <td>NaN</td>\n",
              "      <td>...</td>\n",
              "      <td>7.09</td>\n",
              "      <td>6.43</td>\n",
              "      <td>6.68</td>\n",
              "      <td>5.34</td>\n",
              "      <td>9.12</td>\n",
              "      <td>8.81</td>\n",
              "      <td>8.26</td>\n",
              "      <td>8.35</td>\n",
              "      <td>8.98</td>\n",
              "      <td>10.48</td>\n",
              "    </tr>\n",
              "    <tr>\n",
              "      <th>22517</th>\n",
              "      <td>AEEA440A8C84F51B9B1ACF5656F5AFF1</td>\n",
              "      <td>0</td>\n",
              "      <td>NaN</td>\n",
              "      <td>NaN</td>\n",
              "      <td>NaN</td>\n",
              "      <td>NaN</td>\n",
              "      <td>NaN</td>\n",
              "      <td>NaN</td>\n",
              "      <td>NaN</td>\n",
              "      <td>NaN</td>\n",
              "      <td>...</td>\n",
              "      <td>3.13</td>\n",
              "      <td>2.28</td>\n",
              "      <td>3.24</td>\n",
              "      <td>2.07</td>\n",
              "      <td>2.40</td>\n",
              "      <td>3.32</td>\n",
              "      <td>3.52</td>\n",
              "      <td>2.47</td>\n",
              "      <td>3.39</td>\n",
              "      <td>2.30</td>\n",
              "    </tr>\n",
              "    <tr>\n",
              "      <th>21729</th>\n",
              "      <td>C37C79063FE7739CACC59536970701CF</td>\n",
              "      <td>0</td>\n",
              "      <td>NaN</td>\n",
              "      <td>NaN</td>\n",
              "      <td>NaN</td>\n",
              "      <td>NaN</td>\n",
              "      <td>NaN</td>\n",
              "      <td>NaN</td>\n",
              "      <td>NaN</td>\n",
              "      <td>NaN</td>\n",
              "      <td>...</td>\n",
              "      <td>2.00</td>\n",
              "      <td>2.15</td>\n",
              "      <td>2.46</td>\n",
              "      <td>3.54</td>\n",
              "      <td>2.69</td>\n",
              "      <td>2.33</td>\n",
              "      <td>2.25</td>\n",
              "      <td>2.26</td>\n",
              "      <td>2.36</td>\n",
              "      <td>2.39</td>\n",
              "    </tr>\n",
              "    <tr>\n",
              "      <th>38261</th>\n",
              "      <td>E1615CDF7140EFB24ADB8AC2B8B3E221</td>\n",
              "      <td>0</td>\n",
              "      <td>NaN</td>\n",
              "      <td>NaN</td>\n",
              "      <td>NaN</td>\n",
              "      <td>NaN</td>\n",
              "      <td>NaN</td>\n",
              "      <td>NaN</td>\n",
              "      <td>NaN</td>\n",
              "      <td>NaN</td>\n",
              "      <td>...</td>\n",
              "      <td>0.96</td>\n",
              "      <td>0.87</td>\n",
              "      <td>0.89</td>\n",
              "      <td>0.88</td>\n",
              "      <td>0.89</td>\n",
              "      <td>0.90</td>\n",
              "      <td>0.88</td>\n",
              "      <td>0.89</td>\n",
              "      <td>0.88</td>\n",
              "      <td>0.86</td>\n",
              "    </tr>\n",
              "  </tbody>\n",
              "</table>\n",
              "<p>5 rows × 1036 columns</p>\n",
              "</div>\n",
              "    <div class=\"colab-df-buttons\">\n",
              "\n",
              "  <div class=\"colab-df-container\">\n",
              "    <button class=\"colab-df-convert\" onclick=\"convertToInteractive('df-2b568554-45b3-4af2-af45-e01d7e0dcec2')\"\n",
              "            title=\"Convert this dataframe to an interactive table.\"\n",
              "            style=\"display:none;\">\n",
              "\n",
              "  <svg xmlns=\"http://www.w3.org/2000/svg\" height=\"24px\" viewBox=\"0 -960 960 960\">\n",
              "    <path d=\"M120-120v-720h720v720H120Zm60-500h600v-160H180v160Zm220 220h160v-160H400v160Zm0 220h160v-160H400v160ZM180-400h160v-160H180v160Zm440 0h160v-160H620v160ZM180-180h160v-160H180v160Zm440 0h160v-160H620v160Z\"/>\n",
              "  </svg>\n",
              "    </button>\n",
              "\n",
              "  <style>\n",
              "    .colab-df-container {\n",
              "      display:flex;\n",
              "      gap: 12px;\n",
              "    }\n",
              "\n",
              "    .colab-df-convert {\n",
              "      background-color: #E8F0FE;\n",
              "      border: none;\n",
              "      border-radius: 50%;\n",
              "      cursor: pointer;\n",
              "      display: none;\n",
              "      fill: #1967D2;\n",
              "      height: 32px;\n",
              "      padding: 0 0 0 0;\n",
              "      width: 32px;\n",
              "    }\n",
              "\n",
              "    .colab-df-convert:hover {\n",
              "      background-color: #E2EBFA;\n",
              "      box-shadow: 0px 1px 2px rgba(60, 64, 67, 0.3), 0px 1px 3px 1px rgba(60, 64, 67, 0.15);\n",
              "      fill: #174EA6;\n",
              "    }\n",
              "\n",
              "    .colab-df-buttons div {\n",
              "      margin-bottom: 4px;\n",
              "    }\n",
              "\n",
              "    [theme=dark] .colab-df-convert {\n",
              "      background-color: #3B4455;\n",
              "      fill: #D2E3FC;\n",
              "    }\n",
              "\n",
              "    [theme=dark] .colab-df-convert:hover {\n",
              "      background-color: #434B5C;\n",
              "      box-shadow: 0px 1px 3px 1px rgba(0, 0, 0, 0.15);\n",
              "      filter: drop-shadow(0px 1px 2px rgba(0, 0, 0, 0.3));\n",
              "      fill: #FFFFFF;\n",
              "    }\n",
              "  </style>\n",
              "\n",
              "    <script>\n",
              "      const buttonEl =\n",
              "        document.querySelector('#df-2b568554-45b3-4af2-af45-e01d7e0dcec2 button.colab-df-convert');\n",
              "      buttonEl.style.display =\n",
              "        google.colab.kernel.accessAllowed ? 'block' : 'none';\n",
              "\n",
              "      async function convertToInteractive(key) {\n",
              "        const element = document.querySelector('#df-2b568554-45b3-4af2-af45-e01d7e0dcec2');\n",
              "        const dataTable =\n",
              "          await google.colab.kernel.invokeFunction('convertToInteractive',\n",
              "                                                    [key], {});\n",
              "        if (!dataTable) return;\n",
              "\n",
              "        const docLinkHtml = 'Like what you see? Visit the ' +\n",
              "          '<a target=\"_blank\" href=https://colab.research.google.com/notebooks/data_table.ipynb>data table notebook</a>'\n",
              "          + ' to learn more about interactive tables.';\n",
              "        element.innerHTML = '';\n",
              "        dataTable['output_type'] = 'display_data';\n",
              "        await google.colab.output.renderOutput(dataTable, element);\n",
              "        const docLink = document.createElement('div');\n",
              "        docLink.innerHTML = docLinkHtml;\n",
              "        element.appendChild(docLink);\n",
              "      }\n",
              "    </script>\n",
              "  </div>\n",
              "\n",
              "\n",
              "<div id=\"df-79c2530e-1c12-40e2-983f-e85288cc320b\">\n",
              "  <button class=\"colab-df-quickchart\" onclick=\"quickchart('df-79c2530e-1c12-40e2-983f-e85288cc320b')\"\n",
              "            title=\"Suggest charts\"\n",
              "            style=\"display:none;\">\n",
              "\n",
              "<svg xmlns=\"http://www.w3.org/2000/svg\" height=\"24px\"viewBox=\"0 0 24 24\"\n",
              "     width=\"24px\">\n",
              "    <g>\n",
              "        <path d=\"M19 3H5c-1.1 0-2 .9-2 2v14c0 1.1.9 2 2 2h14c1.1 0 2-.9 2-2V5c0-1.1-.9-2-2-2zM9 17H7v-7h2v7zm4 0h-2V7h2v10zm4 0h-2v-4h2v4z\"/>\n",
              "    </g>\n",
              "</svg>\n",
              "  </button>\n",
              "\n",
              "<style>\n",
              "  .colab-df-quickchart {\n",
              "      --bg-color: #E8F0FE;\n",
              "      --fill-color: #1967D2;\n",
              "      --hover-bg-color: #E2EBFA;\n",
              "      --hover-fill-color: #174EA6;\n",
              "      --disabled-fill-color: #AAA;\n",
              "      --disabled-bg-color: #DDD;\n",
              "  }\n",
              "\n",
              "  [theme=dark] .colab-df-quickchart {\n",
              "      --bg-color: #3B4455;\n",
              "      --fill-color: #D2E3FC;\n",
              "      --hover-bg-color: #434B5C;\n",
              "      --hover-fill-color: #FFFFFF;\n",
              "      --disabled-bg-color: #3B4455;\n",
              "      --disabled-fill-color: #666;\n",
              "  }\n",
              "\n",
              "  .colab-df-quickchart {\n",
              "    background-color: var(--bg-color);\n",
              "    border: none;\n",
              "    border-radius: 50%;\n",
              "    cursor: pointer;\n",
              "    display: none;\n",
              "    fill: var(--fill-color);\n",
              "    height: 32px;\n",
              "    padding: 0;\n",
              "    width: 32px;\n",
              "  }\n",
              "\n",
              "  .colab-df-quickchart:hover {\n",
              "    background-color: var(--hover-bg-color);\n",
              "    box-shadow: 0 1px 2px rgba(60, 64, 67, 0.3), 0 1px 3px 1px rgba(60, 64, 67, 0.15);\n",
              "    fill: var(--button-hover-fill-color);\n",
              "  }\n",
              "\n",
              "  .colab-df-quickchart-complete:disabled,\n",
              "  .colab-df-quickchart-complete:disabled:hover {\n",
              "    background-color: var(--disabled-bg-color);\n",
              "    fill: var(--disabled-fill-color);\n",
              "    box-shadow: none;\n",
              "  }\n",
              "\n",
              "  .colab-df-spinner {\n",
              "    border: 2px solid var(--fill-color);\n",
              "    border-color: transparent;\n",
              "    border-bottom-color: var(--fill-color);\n",
              "    animation:\n",
              "      spin 1s steps(1) infinite;\n",
              "  }\n",
              "\n",
              "  @keyframes spin {\n",
              "    0% {\n",
              "      border-color: transparent;\n",
              "      border-bottom-color: var(--fill-color);\n",
              "      border-left-color: var(--fill-color);\n",
              "    }\n",
              "    20% {\n",
              "      border-color: transparent;\n",
              "      border-left-color: var(--fill-color);\n",
              "      border-top-color: var(--fill-color);\n",
              "    }\n",
              "    30% {\n",
              "      border-color: transparent;\n",
              "      border-left-color: var(--fill-color);\n",
              "      border-top-color: var(--fill-color);\n",
              "      border-right-color: var(--fill-color);\n",
              "    }\n",
              "    40% {\n",
              "      border-color: transparent;\n",
              "      border-right-color: var(--fill-color);\n",
              "      border-top-color: var(--fill-color);\n",
              "    }\n",
              "    60% {\n",
              "      border-color: transparent;\n",
              "      border-right-color: var(--fill-color);\n",
              "    }\n",
              "    80% {\n",
              "      border-color: transparent;\n",
              "      border-right-color: var(--fill-color);\n",
              "      border-bottom-color: var(--fill-color);\n",
              "    }\n",
              "    90% {\n",
              "      border-color: transparent;\n",
              "      border-bottom-color: var(--fill-color);\n",
              "    }\n",
              "  }\n",
              "</style>\n",
              "\n",
              "  <script>\n",
              "    async function quickchart(key) {\n",
              "      const quickchartButtonEl =\n",
              "        document.querySelector('#' + key + ' button');\n",
              "      quickchartButtonEl.disabled = true;  // To prevent multiple clicks.\n",
              "      quickchartButtonEl.classList.add('colab-df-spinner');\n",
              "      try {\n",
              "        const charts = await google.colab.kernel.invokeFunction(\n",
              "            'suggestCharts', [key], {});\n",
              "      } catch (error) {\n",
              "        console.error('Error during call to suggestCharts:', error);\n",
              "      }\n",
              "      quickchartButtonEl.classList.remove('colab-df-spinner');\n",
              "      quickchartButtonEl.classList.add('colab-df-quickchart-complete');\n",
              "    }\n",
              "    (() => {\n",
              "      let quickchartButtonEl =\n",
              "        document.querySelector('#df-79c2530e-1c12-40e2-983f-e85288cc320b button');\n",
              "      quickchartButtonEl.style.display =\n",
              "        google.colab.kernel.accessAllowed ? 'block' : 'none';\n",
              "    })();\n",
              "  </script>\n",
              "</div>\n",
              "\n",
              "    </div>\n",
              "  </div>\n"
            ],
            "application/vnd.google.colaboratory.intrinsic+json": {
              "type": "dataframe",
              "variable_name": "sampled_df"
            }
          },
          "metadata": {},
          "execution_count": 42
        }
      ],
      "source": [
        "sampled_df.head()"
      ]
    },
    {
      "cell_type": "markdown",
      "metadata": {
        "id": "fZEvLHZkAbuu"
      },
      "source": [
        "## Generate Predictions"
      ]
    },
    {
      "cell_type": "code",
      "execution_count": null,
      "metadata": {
        "id": "Y5IEQojeAfD7",
        "colab": {
          "base_uri": "https://localhost:8080/"
        },
        "outputId": "01da1be8-0763-43da-e5fb-ce786e379f5f"
      },
      "outputs": [
        {
          "output_type": "stream",
          "name": "stdout",
          "text": [
            "663/663 [==============================] - 15s 22ms/step\n"
          ]
        }
      ],
      "source": [
        "# Preprocess the input data\n",
        "# print(inputData)\n",
        "\n",
        "def pad_input_data(input_data, target_length=1036):\n",
        "    # Pad the input data to reach the required target length of 1036\n",
        "    current_length = input_data.shape[1]\n",
        "    if current_length < target_length:\n",
        "        # Pad with zeros\n",
        "        padding = np.zeros((input_data.shape[0], target_length - current_length))\n",
        "        input_data = np.hstack((input_data, padding))  # No need for .to_numpy() as it's already a numpy array\n",
        "    return input_data\n",
        "\n",
        "# Call the padding function before prediction\n",
        "X_test_padded = pad_input_data(X_test, target_length=148*7)  # Target length = 1036\n",
        "\n",
        "# Then reshape and predict\n",
        "predictions = predict(X_test_padded, model)\n",
        "\n",
        "\n",
        "# X_test, y_test = preprocess_input(sampled_df)\n",
        "\n",
        "# # Perform prediction using the updated predict function\n",
        "# predictions = predict(X_test, model)\n",
        "# labels = y_test"
      ]
    },
    {
      "cell_type": "code",
      "execution_count": null,
      "metadata": {
        "colab": {
          "base_uri": "https://localhost:8080/"
        },
        "id": "reuc2qlnAnm7",
        "outputId": "34916d44-751e-4bf8-dd8b-c108ebaef705"
      },
      "outputs": [
        {
          "output_type": "execute_result",
          "data": {
            "text/plain": [
              "array([[0],\n",
              "       [1],\n",
              "       [0],\n",
              "       ...,\n",
              "       [0],\n",
              "       [0],\n",
              "       [0]], dtype=int32)"
            ]
          },
          "metadata": {},
          "execution_count": 51
        }
      ],
      "source": [
        "predictions"
      ]
    },
    {
      "cell_type": "code",
      "execution_count": null,
      "metadata": {
        "colab": {
          "base_uri": "https://localhost:8080/",
          "height": 1000
        },
        "id": "_EEM8mjxEezC",
        "outputId": "e14b0e42-df96-4db5-ef61-8f51d2885daa"
      },
      "outputs": [
        {
          "output_type": "stream",
          "name": "stdout",
          "text": [
            "Accuracy: 99.07%\n",
            "RMSE: 0.0967\n",
            "MAE: 0.0093\n",
            "F1 Score (Weighted): 99.08%\n",
            "AUC: 98.64%\n"
          ]
        },
        {
          "output_type": "display_data",
          "data": {
            "text/plain": [
              "<Figure size 800x600 with 1 Axes>"
            ],
            "image/png": "[encoded data removed]"
          },
          "metadata": {}
        },
        {
          "output_type": "stream",
          "name": "stderr",
          "text": [
            "<ipython-input-11-e6d4f850b62a>:48: FutureWarning: \n",
            "\n",
            "Passing `palette` without assigning `hue` is deprecated and will be removed in v0.14.0. Assign the `x` variable to `hue` and set `legend=False` for the same effect.\n",
            "\n",
            "  sns.barplot(x=metrics, y=values, palette='viridis')\n"
          ]
        },
        {
          "output_type": "display_data",
          "data": {
            "text/plain": [
              "<Figure size 1000x600 with 1 Axes>"
            ],
            "image/png": "[encoded data removed]"
          },
          "metadata": {}
        }
      ],
      "source": [
        "results(y_test, predictions, save_folder='/content/drive/MyDrive/Power_Theft_Detection/resultsImages')"
      ]
    },
    {
      "cell_type": "markdown",
      "metadata": {
        "id": "1ngkNeAWmhqx"
      },
      "source": [
        "## pickle file"
      ]
    },
    {
      "cell_type": "code",
      "execution_count": null,
      "metadata": {
        "id": "MofSaGEXmkKC"
      },
      "outputs": [],
      "source": [
        "### create a pickle file using serialization\n",
        "#import pickle\n",
        "#pickle_out = open(\"classifier.pkl\",\"wb\")\n",
        "#pickle.dump(classifier, pickle_out)\n",
        "#pickle_out.close()"
      ]
    },
    {
      "cell_type": "code",
      "execution_count": null,
      "metadata": {
        "colab": {
          "base_uri": "https://localhost:8080/",
          "height": 1000
        },
        "id": "m2qpMxv1nhSN",
        "outputId": "a976c619-6cb5-4def-847e-860a18b65cfc"
      },
      "outputs": [
        {
          "output_type": "stream",
          "name": "stderr",
          "text": [
            "WARNING:matplotlib.font_manager:findfont: Font family 'Times New Roman' not found.\n",
            "WARNING:matplotlib.font_manager:findfont: Font family 'Times New Roman' not found.\n",
            "WARNING:matplotlib.font_manager:findfont: Font family 'Times New Roman' not found.\n",
            "WARNING:matplotlib.font_manager:findfont: Font family 'Times New Roman' not found.\n",
            "WARNING:matplotlib.font_manager:findfont: Font family 'Times New Roman' not found.\n",
            "WARNING:matplotlib.font_manager:findfont: Font family 'Times New Roman' not found.\n",
            "WARNING:matplotlib.font_manager:findfont: Font family 'Times New Roman' not found.\n",
            "WARNING:matplotlib.font_manager:findfont: Font family 'Times New Roman' not found.\n",
            "WARNING:matplotlib.font_manager:findfont: Font family 'Times New Roman' not found.\n",
            "WARNING:matplotlib.font_manager:findfont: Font family 'Times New Roman' not found.\n",
            "WARNING:matplotlib.font_manager:findfont: Font family 'Times New Roman' not found.\n",
            "WARNING:matplotlib.font_manager:findfont: Font family 'Times New Roman' not found.\n",
            "WARNING:matplotlib.font_manager:findfont: Font family 'Times New Roman' not found.\n",
            "WARNING:matplotlib.font_manager:findfont: Font family 'Times New Roman' not found.\n",
            "WARNING:matplotlib.font_manager:findfont: Font family 'Times New Roman' not found.\n",
            "WARNING:matplotlib.font_manager:findfont: Font family 'Times New Roman' not found.\n",
            "WARNING:matplotlib.font_manager:findfont: Font family 'Times New Roman' not found.\n",
            "WARNING:matplotlib.font_manager:findfont: Font family 'Times New Roman' not found.\n",
            "WARNING:matplotlib.font_manager:findfont: Font family 'Times New Roman' not found.\n",
            "WARNING:matplotlib.font_manager:findfont: Font family 'Times New Roman' not found.\n",
            "WARNING:matplotlib.font_manager:findfont: Font family 'Times New Roman' not found.\n",
            "WARNING:matplotlib.font_manager:findfont: Font family 'Times New Roman' not found.\n",
            "WARNING:matplotlib.font_manager:findfont: Font family 'Times New Roman' not found.\n",
            "WARNING:matplotlib.font_manager:findfont: Font family 'Times New Roman' not found.\n",
            "WARNING:matplotlib.font_manager:findfont: Font family 'Times New Roman' not found.\n",
            "WARNING:matplotlib.font_manager:findfont: Font family 'Times New Roman' not found.\n",
            "WARNING:matplotlib.font_manager:findfont: Font family 'Times New Roman' not found.\n",
            "WARNING:matplotlib.font_manager:findfont: Font family 'Times New Roman' not found.\n",
            "WARNING:matplotlib.font_manager:findfont: Font family 'Times New Roman' not found.\n",
            "WARNING:matplotlib.font_manager:findfont: Font family 'Times New Roman' not found.\n",
            "WARNING:matplotlib.font_manager:findfont: Font family 'Times New Roman' not found.\n",
            "WARNING:matplotlib.font_manager:findfont: Font family 'Times New Roman' not found.\n",
            "WARNING:matplotlib.font_manager:findfont: Font family 'Times New Roman' not found.\n",
            "WARNING:matplotlib.font_manager:findfont: Font family 'Times New Roman' not found.\n",
            "WARNING:matplotlib.font_manager:findfont: Font family 'Times New Roman' not found.\n",
            "WARNING:matplotlib.font_manager:findfont: Font family 'Times New Roman' not found.\n",
            "WARNING:matplotlib.font_manager:findfont: Font family 'Times New Roman' not found.\n",
            "WARNING:matplotlib.font_manager:findfont: Font family 'Times New Roman' not found.\n",
            "WARNING:matplotlib.font_manager:findfont: Font family 'Times New Roman' not found.\n",
            "WARNING:matplotlib.font_manager:findfont: Font family 'Times New Roman' not found.\n",
            "WARNING:matplotlib.font_manager:findfont: Font family 'Times New Roman' not found.\n",
            "WARNING:matplotlib.font_manager:findfont: Font family 'Times New Roman' not found.\n",
            "WARNING:matplotlib.font_manager:findfont: Font family 'Times New Roman' not found.\n",
            "WARNING:matplotlib.font_manager:findfont: Font family 'Times New Roman' not found.\n",
            "WARNING:matplotlib.font_manager:findfont: Font family 'Times New Roman' not found.\n",
            "WARNING:matplotlib.font_manager:findfont: Font family 'Times New Roman' not found.\n",
            "WARNING:matplotlib.font_manager:findfont: Font family 'Times New Roman' not found.\n",
            "WARNING:matplotlib.font_manager:findfont: Font family 'Times New Roman' not found.\n",
            "WARNING:matplotlib.font_manager:findfont: Font family 'Times New Roman' not found.\n",
            "WARNING:matplotlib.font_manager:findfont: Font family 'Times New Roman' not found.\n",
            "WARNING:matplotlib.font_manager:findfont: Font family 'Times New Roman' not found.\n",
            "WARNING:matplotlib.font_manager:findfont: Font family 'Times New Roman' not found.\n",
            "WARNING:matplotlib.font_manager:findfont: Font family 'Times New Roman' not found.\n",
            "WARNING:matplotlib.font_manager:findfont: Font family 'Times New Roman' not found.\n",
            "WARNING:matplotlib.font_manager:findfont: Font family 'Times New Roman' not found.\n",
            "WARNING:matplotlib.font_manager:findfont: Font family 'Times New Roman' not found.\n",
            "WARNING:matplotlib.font_manager:findfont: Font family 'Times New Roman' not found.\n",
            "WARNING:matplotlib.font_manager:findfont: Font family 'Times New Roman' not found.\n",
            "WARNING:matplotlib.font_manager:findfont: Font family 'Times New Roman' not found.\n",
            "WARNING:matplotlib.font_manager:findfont: Font family 'Times New Roman' not found.\n",
            "WARNING:matplotlib.font_manager:findfont: Font family 'Times New Roman' not found.\n",
            "WARNING:matplotlib.font_manager:findfont: Font family 'Times New Roman' not found.\n",
            "WARNING:matplotlib.font_manager:findfont: Font family 'Times New Roman' not found.\n",
            "WARNING:matplotlib.font_manager:findfont: Font family 'Times New Roman' not found.\n",
            "WARNING:matplotlib.font_manager:findfont: Font family 'Times New Roman' not found.\n",
            "WARNING:matplotlib.font_manager:findfont: Font family 'Times New Roman' not found.\n",
            "WARNING:matplotlib.font_manager:findfont: Font family 'Times New Roman' not found.\n",
            "WARNING:matplotlib.font_manager:findfont: Font family 'Times New Roman' not found.\n",
            "WARNING:matplotlib.font_manager:findfont: Font family 'Times New Roman' not found.\n",
            "WARNING:matplotlib.font_manager:findfont: Font family 'Times New Roman' not found.\n",
            "WARNING:matplotlib.font_manager:findfont: Font family 'Times New Roman' not found.\n",
            "WARNING:matplotlib.font_manager:findfont: Font family 'Times New Roman' not found.\n",
            "WARNING:matplotlib.font_manager:findfont: Font family 'Times New Roman' not found.\n",
            "WARNING:matplotlib.font_manager:findfont: Font family 'Times New Roman' not found.\n",
            "WARNING:matplotlib.font_manager:findfont: Font family 'Times New Roman' not found.\n",
            "WARNING:matplotlib.font_manager:findfont: Font family 'Times New Roman' not found.\n",
            "WARNING:matplotlib.font_manager:findfont: Font family 'Times New Roman' not found.\n",
            "WARNING:matplotlib.font_manager:findfont: Font family 'Times New Roman' not found.\n",
            "WARNING:matplotlib.font_manager:findfont: Font family 'Times New Roman' not found.\n",
            "WARNING:matplotlib.font_manager:findfont: Font family 'Times New Roman' not found.\n",
            "WARNING:matplotlib.font_manager:findfont: Font family 'Times New Roman' not found.\n",
            "WARNING:matplotlib.font_manager:findfont: Font family 'Times New Roman' not found.\n",
            "WARNING:matplotlib.font_manager:findfont: Font family 'Times New Roman' not found.\n",
            "WARNING:matplotlib.font_manager:findfont: Font family 'Times New Roman' not found.\n",
            "WARNING:matplotlib.font_manager:findfont: Font family 'Times New Roman' not found.\n",
            "WARNING:matplotlib.font_manager:findfont: Font family 'Times New Roman' not found.\n",
            "WARNING:matplotlib.font_manager:findfont: Font family 'Times New Roman' not found.\n",
            "WARNING:matplotlib.font_manager:findfont: Font family 'Times New Roman' not found.\n",
            "WARNING:matplotlib.font_manager:findfont: Font family 'Times New Roman' not found.\n",
            "WARNING:matplotlib.font_manager:findfont: Font family 'Times New Roman' not found.\n",
            "WARNING:matplotlib.font_manager:findfont: Font family 'Times New Roman' not found.\n",
            "WARNING:matplotlib.font_manager:findfont: Font family 'Times New Roman' not found.\n",
            "WARNING:matplotlib.font_manager:findfont: Font family 'Times New Roman' not found.\n",
            "WARNING:matplotlib.font_manager:findfont: Font family 'Times New Roman' not found.\n",
            "WARNING:matplotlib.font_manager:findfont: Font family 'Times New Roman' not found.\n",
            "WARNING:matplotlib.font_manager:findfont: Font family 'Times New Roman' not found.\n",
            "WARNING:matplotlib.font_manager:findfont: Font family 'Times New Roman' not found.\n",
            "WARNING:matplotlib.font_manager:findfont: Font family 'Times New Roman' not found.\n",
            "WARNING:matplotlib.font_manager:findfont: Font family 'Times New Roman' not found.\n",
            "WARNING:matplotlib.font_manager:findfont: Font family 'Times New Roman' not found.\n",
            "WARNING:matplotlib.font_manager:findfont: Font family 'Times New Roman' not found.\n",
            "WARNING:matplotlib.font_manager:findfont: Font family 'Times New Roman' not found.\n",
            "WARNING:matplotlib.font_manager:findfont: Font family 'Times New Roman' not found.\n",
            "WARNING:matplotlib.font_manager:findfont: Font family 'Times New Roman' not found.\n",
            "WARNING:matplotlib.font_manager:findfont: Font family 'Times New Roman' not found.\n",
            "WARNING:matplotlib.font_manager:findfont: Font family 'Times New Roman' not found.\n",
            "WARNING:matplotlib.font_manager:findfont: Font family 'Times New Roman' not found.\n",
            "WARNING:matplotlib.font_manager:findfont: Font family 'Times New Roman' not found.\n",
            "WARNING:matplotlib.font_manager:findfont: Font family 'Times New Roman' not found.\n",
            "WARNING:matplotlib.font_manager:findfont: Font family 'Times New Roman' not found.\n",
            "WARNING:matplotlib.font_manager:findfont: Font family 'Times New Roman' not found.\n",
            "WARNING:matplotlib.font_manager:findfont: Font family 'Times New Roman' not found.\n",
            "WARNING:matplotlib.font_manager:findfont: Font family 'Times New Roman' not found.\n",
            "WARNING:matplotlib.font_manager:findfont: Font family 'Times New Roman' not found.\n",
            "WARNING:matplotlib.font_manager:findfont: Font family 'Times New Roman' not found.\n",
            "WARNING:matplotlib.font_manager:findfont: Font family 'Times New Roman' not found.\n",
            "WARNING:matplotlib.font_manager:findfont: Font family 'Times New Roman' not found.\n",
            "WARNING:matplotlib.font_manager:findfont: Font family 'Times New Roman' not found.\n",
            "WARNING:matplotlib.font_manager:findfont: Font family 'Times New Roman' not found.\n",
            "WARNING:matplotlib.font_manager:findfont: Font family 'Times New Roman' not found.\n",
            "WARNING:matplotlib.font_manager:findfont: Font family 'Times New Roman' not found.\n",
            "WARNING:matplotlib.font_manager:findfont: Font family 'Times New Roman' not found.\n",
            "WARNING:matplotlib.font_manager:findfont: Font family 'Times New Roman' not found.\n",
            "WARNING:matplotlib.font_manager:findfont: Font family 'Times New Roman' not found.\n",
            "WARNING:matplotlib.font_manager:findfont: Font family 'Times New Roman' not found.\n",
            "WARNING:matplotlib.font_manager:findfont: Font family 'Times New Roman' not found.\n",
            "WARNING:matplotlib.font_manager:findfont: Font family 'Times New Roman' not found.\n",
            "WARNING:matplotlib.font_manager:findfont: Font family 'Times New Roman' not found.\n",
            "WARNING:matplotlib.font_manager:findfont: Font family 'Times New Roman' not found.\n",
            "WARNING:matplotlib.font_manager:findfont: Font family 'Times New Roman' not found.\n",
            "WARNING:matplotlib.font_manager:findfont: Font family 'Times New Roman' not found.\n",
            "WARNING:matplotlib.font_manager:findfont: Font family 'Times New Roman' not found.\n",
            "WARNING:matplotlib.font_manager:findfont: Font family 'Times New Roman' not found.\n",
            "WARNING:matplotlib.font_manager:findfont: Font family 'Times New Roman' not found.\n",
            "WARNING:matplotlib.font_manager:findfont: Font family 'Times New Roman' not found.\n",
            "WARNING:matplotlib.font_manager:findfont: Font family 'Times New Roman' not found.\n",
            "WARNING:matplotlib.font_manager:findfont: Font family 'Times New Roman' not found.\n",
            "WARNING:matplotlib.font_manager:findfont: Font family 'Times New Roman' not found.\n",
            "WARNING:matplotlib.font_manager:findfont: Font family 'Times New Roman' not found.\n",
            "WARNING:matplotlib.font_manager:findfont: Font family 'Times New Roman' not found.\n",
            "WARNING:matplotlib.font_manager:findfont: Font family 'Times New Roman' not found.\n",
            "WARNING:matplotlib.font_manager:findfont: Font family 'Times New Roman' not found.\n",
            "WARNING:matplotlib.font_manager:findfont: Font family 'Times New Roman' not found.\n",
            "WARNING:matplotlib.font_manager:findfont: Font family 'Times New Roman' not found.\n",
            "WARNING:matplotlib.font_manager:findfont: Font family 'Times New Roman' not found.\n",
            "WARNING:matplotlib.font_manager:findfont: Font family 'Times New Roman' not found.\n",
            "WARNING:matplotlib.font_manager:findfont: Font family 'Times New Roman' not found.\n",
            "WARNING:matplotlib.font_manager:findfont: Font family 'Times New Roman' not found.\n",
            "WARNING:matplotlib.font_manager:findfont: Font family 'Times New Roman' not found.\n",
            "WARNING:matplotlib.font_manager:findfont: Font family 'Times New Roman' not found.\n",
            "WARNING:matplotlib.font_manager:findfont: Font family 'Times New Roman' not found.\n",
            "WARNING:matplotlib.font_manager:findfont: Font family 'Times New Roman' not found.\n",
            "WARNING:matplotlib.font_manager:findfont: Font family 'Times New Roman' not found.\n",
            "WARNING:matplotlib.font_manager:findfont: Font family 'Times New Roman' not found.\n",
            "WARNING:matplotlib.font_manager:findfont: Font family 'Times New Roman' not found.\n",
            "WARNING:matplotlib.font_manager:findfont: Font family 'Times New Roman' not found.\n",
            "WARNING:matplotlib.font_manager:findfont: Font family 'Times New Roman' not found.\n",
            "WARNING:matplotlib.font_manager:findfont: Font family 'Times New Roman' not found.\n",
            "WARNING:matplotlib.font_manager:findfont: Font family 'Times New Roman' not found.\n",
            "WARNING:matplotlib.font_manager:findfont: Font family 'Times New Roman' not found.\n",
            "WARNING:matplotlib.font_manager:findfont: Font family 'Times New Roman' not found.\n",
            "WARNING:matplotlib.font_manager:findfont: Font family 'Times New Roman' not found.\n",
            "WARNING:matplotlib.font_manager:findfont: Font family 'Times New Roman' not found.\n",
            "WARNING:matplotlib.font_manager:findfont: Font family 'Times New Roman' not found.\n",
            "WARNING:matplotlib.font_manager:findfont: Font family 'Times New Roman' not found.\n",
            "WARNING:matplotlib.font_manager:findfont: Font family 'Times New Roman' not found.\n",
            "WARNING:matplotlib.font_manager:findfont: Font family 'Times New Roman' not found.\n",
            "WARNING:matplotlib.font_manager:findfont: Font family 'Times New Roman' not found.\n",
            "WARNING:matplotlib.font_manager:findfont: Font family 'Times New Roman' not found.\n",
            "WARNING:matplotlib.font_manager:findfont: Font family 'Times New Roman' not found.\n",
            "WARNING:matplotlib.font_manager:findfont: Font family 'Times New Roman' not found.\n",
            "WARNING:matplotlib.font_manager:findfont: Font family 'Times New Roman' not found.\n",
            "WARNING:matplotlib.font_manager:findfont: Font family 'Times New Roman' not found.\n",
            "WARNING:matplotlib.font_manager:findfont: Font family 'Times New Roman' not found.\n",
            "WARNING:matplotlib.font_manager:findfont: Font family 'Times New Roman' not found.\n",
            "WARNING:matplotlib.font_manager:findfont: Font family 'Times New Roman' not found.\n",
            "WARNING:matplotlib.font_manager:findfont: Font family 'Times New Roman' not found.\n",
            "WARNING:matplotlib.font_manager:findfont: Font family 'Times New Roman' not found.\n",
            "WARNING:matplotlib.font_manager:findfont: Font family 'Times New Roman' not found.\n",
            "WARNING:matplotlib.font_manager:findfont: Font family 'Times New Roman' not found.\n",
            "WARNING:matplotlib.font_manager:findfont: Font family 'Times New Roman' not found.\n",
            "WARNING:matplotlib.font_manager:findfont: Font family 'Times New Roman' not found.\n",
            "WARNING:matplotlib.font_manager:findfont: Font family 'Times New Roman' not found.\n",
            "WARNING:matplotlib.font_manager:findfont: Font family 'Times New Roman' not found.\n",
            "WARNING:matplotlib.font_manager:findfont: Font family 'Times New Roman' not found.\n",
            "WARNING:matplotlib.font_manager:findfont: Font family 'Times New Roman' not found.\n",
            "WARNING:matplotlib.font_manager:findfont: Font family 'Times New Roman' not found.\n",
            "WARNING:matplotlib.font_manager:findfont: Font family 'Times New Roman' not found.\n",
            "WARNING:matplotlib.font_manager:findfont: Font family 'Times New Roman' not found.\n",
            "WARNING:matplotlib.font_manager:findfont: Font family 'Times New Roman' not found.\n",
            "WARNING:matplotlib.font_manager:findfont: Font family 'Times New Roman' not found.\n",
            "WARNING:matplotlib.font_manager:findfont: Font family 'Times New Roman' not found.\n",
            "WARNING:matplotlib.font_manager:findfont: Font family 'Times New Roman' not found.\n",
            "WARNING:matplotlib.font_manager:findfont: Font family 'Times New Roman' not found.\n",
            "WARNING:matplotlib.font_manager:findfont: Font family 'Times New Roman' not found.\n",
            "WARNING:matplotlib.font_manager:findfont: Font family 'Times New Roman' not found.\n",
            "WARNING:matplotlib.font_manager:findfont: Font family 'Times New Roman' not found.\n",
            "WARNING:matplotlib.font_manager:findfont: Font family 'Times New Roman' not found.\n",
            "WARNING:matplotlib.font_manager:findfont: Font family 'Times New Roman' not found.\n",
            "WARNING:matplotlib.font_manager:findfont: Font family 'Times New Roman' not found.\n",
            "WARNING:matplotlib.font_manager:findfont: Font family 'Times New Roman' not found.\n",
            "WARNING:matplotlib.font_manager:findfont: Font family 'Times New Roman' not found.\n",
            "WARNING:matplotlib.font_manager:findfont: Font family 'Times New Roman' not found.\n",
            "WARNING:matplotlib.font_manager:findfont: Font family 'Times New Roman' not found.\n",
            "WARNING:matplotlib.font_manager:findfont: Font family 'Times New Roman' not found.\n",
            "WARNING:matplotlib.font_manager:findfont: Font family 'Times New Roman' not found.\n",
            "WARNING:matplotlib.font_manager:findfont: Font family 'Times New Roman' not found.\n",
            "WARNING:matplotlib.font_manager:findfont: Font family 'Times New Roman' not found.\n",
            "WARNING:matplotlib.font_manager:findfont: Font family 'Times New Roman' not found.\n",
            "WARNING:matplotlib.font_manager:findfont: Font family 'Times New Roman' not found.\n",
            "WARNING:matplotlib.font_manager:findfont: Font family 'Times New Roman' not found.\n",
            "WARNING:matplotlib.font_manager:findfont: Font family 'Times New Roman' not found.\n",
            "WARNING:matplotlib.font_manager:findfont: Font family 'Times New Roman' not found.\n",
            "WARNING:matplotlib.font_manager:findfont: Font family 'Times New Roman' not found.\n",
            "WARNING:matplotlib.font_manager:findfont: Font family 'Times New Roman' not found.\n",
            "WARNING:matplotlib.font_manager:findfont: Font family 'Times New Roman' not found.\n",
            "WARNING:matplotlib.font_manager:findfont: Font family 'Times New Roman' not found.\n",
            "WARNING:matplotlib.font_manager:findfont: Font family 'Times New Roman' not found.\n",
            "WARNING:matplotlib.font_manager:findfont: Font family 'Times New Roman' not found.\n",
            "WARNING:matplotlib.font_manager:findfont: Font family 'Times New Roman' not found.\n",
            "WARNING:matplotlib.font_manager:findfont: Font family 'Times New Roman' not found.\n",
            "WARNING:matplotlib.font_manager:findfont: Font family 'Times New Roman' not found.\n",
            "WARNING:matplotlib.font_manager:findfont: Font family 'Times New Roman' not found.\n",
            "WARNING:matplotlib.font_manager:findfont: Font family 'Times New Roman' not found.\n",
            "WARNING:matplotlib.font_manager:findfont: Font family 'Times New Roman' not found.\n",
            "WARNING:matplotlib.font_manager:findfont: Font family 'Times New Roman' not found.\n",
            "WARNING:matplotlib.font_manager:findfont: Font family 'Times New Roman' not found.\n",
            "WARNING:matplotlib.font_manager:findfont: Font family 'Times New Roman' not found.\n",
            "WARNING:matplotlib.font_manager:findfont: Font family 'Times New Roman' not found.\n",
            "WARNING:matplotlib.font_manager:findfont: Font family 'Times New Roman' not found.\n",
            "WARNING:matplotlib.font_manager:findfont: Font family 'Times New Roman' not found.\n",
            "WARNING:matplotlib.font_manager:findfont: Font family 'Times New Roman' not found.\n",
            "WARNING:matplotlib.font_manager:findfont: Font family 'Times New Roman' not found.\n",
            "WARNING:matplotlib.font_manager:findfont: Font family 'Times New Roman' not found.\n",
            "WARNING:matplotlib.font_manager:findfont: Font family 'Times New Roman' not found.\n",
            "WARNING:matplotlib.font_manager:findfont: Font family 'Times New Roman' not found.\n",
            "WARNING:matplotlib.font_manager:findfont: Font family 'Times New Roman' not found.\n",
            "WARNING:matplotlib.font_manager:findfont: Font family 'Times New Roman' not found.\n",
            "WARNING:matplotlib.font_manager:findfont: Font family 'Times New Roman' not found.\n",
            "WARNING:matplotlib.font_manager:findfont: Font family 'Times New Roman' not found.\n",
            "WARNING:matplotlib.font_manager:findfont: Font family 'Times New Roman' not found.\n",
            "WARNING:matplotlib.font_manager:findfont: Font family 'Times New Roman' not found.\n",
            "WARNING:matplotlib.font_manager:findfont: Font family 'Times New Roman' not found.\n",
            "WARNING:matplotlib.font_manager:findfont: Font family 'Times New Roman' not found.\n",
            "WARNING:matplotlib.font_manager:findfont: Font family 'Times New Roman' not found.\n",
            "WARNING:matplotlib.font_manager:findfont: Font family 'Times New Roman' not found.\n",
            "WARNING:matplotlib.font_manager:findfont: Font family 'Times New Roman' not found.\n",
            "WARNING:matplotlib.font_manager:findfont: Font family 'Times New Roman' not found.\n",
            "WARNING:matplotlib.font_manager:findfont: Font family 'Times New Roman' not found.\n",
            "WARNING:matplotlib.font_manager:findfont: Font family 'Times New Roman' not found.\n",
            "WARNING:matplotlib.font_manager:findfont: Font family 'Times New Roman' not found.\n",
            "WARNING:matplotlib.font_manager:findfont: Font family 'Times New Roman' not found.\n",
            "WARNING:matplotlib.font_manager:findfont: Font family 'Times New Roman' not found.\n",
            "WARNING:matplotlib.font_manager:findfont: Font family 'Times New Roman' not found.\n",
            "WARNING:matplotlib.font_manager:findfont: Font family 'Times New Roman' not found.\n",
            "WARNING:matplotlib.font_manager:findfont: Font family 'Times New Roman' not found.\n",
            "WARNING:matplotlib.font_manager:findfont: Font family 'Times New Roman' not found.\n",
            "WARNING:matplotlib.font_manager:findfont: Font family 'Times New Roman' not found.\n",
            "WARNING:matplotlib.font_manager:findfont: Font family 'Times New Roman' not found.\n",
            "WARNING:matplotlib.font_manager:findfont: Font family 'Times New Roman' not found.\n",
            "WARNING:matplotlib.font_manager:findfont: Font family 'Times New Roman' not found.\n",
            "WARNING:matplotlib.font_manager:findfont: Font family 'Times New Roman' not found.\n",
            "WARNING:matplotlib.font_manager:findfont: Font family 'Times New Roman' not found.\n",
            "WARNING:matplotlib.font_manager:findfont: Font family 'Times New Roman' not found.\n",
            "WARNING:matplotlib.font_manager:findfont: Font family 'Times New Roman' not found.\n",
            "WARNING:matplotlib.font_manager:findfont: Font family 'Times New Roman' not found.\n",
            "WARNING:matplotlib.font_manager:findfont: Font family 'Times New Roman' not found.\n",
            "WARNING:matplotlib.font_manager:findfont: Font family 'Times New Roman' not found.\n",
            "WARNING:matplotlib.font_manager:findfont: Font family 'Times New Roman' not found.\n",
            "WARNING:matplotlib.font_manager:findfont: Font family 'Times New Roman' not found.\n",
            "WARNING:matplotlib.font_manager:findfont: Font family 'Times New Roman' not found.\n",
            "WARNING:matplotlib.font_manager:findfont: Font family 'Times New Roman' not found.\n",
            "WARNING:matplotlib.font_manager:findfont: Font family 'Times New Roman' not found.\n",
            "WARNING:matplotlib.font_manager:findfont: Font family 'Times New Roman' not found.\n",
            "WARNING:matplotlib.font_manager:findfont: Font family 'Times New Roman' not found.\n",
            "WARNING:matplotlib.font_manager:findfont: Font family 'Times New Roman' not found.\n",
            "WARNING:matplotlib.font_manager:findfont: Font family 'Times New Roman' not found.\n",
            "WARNING:matplotlib.font_manager:findfont: Font family 'Times New Roman' not found.\n",
            "WARNING:matplotlib.font_manager:findfont: Font family 'Times New Roman' not found.\n",
            "WARNING:matplotlib.font_manager:findfont: Font family 'Times New Roman' not found.\n",
            "WARNING:matplotlib.font_manager:findfont: Font family 'Times New Roman' not found.\n",
            "WARNING:matplotlib.font_manager:findfont: Font family 'Times New Roman' not found.\n",
            "WARNING:matplotlib.font_manager:findfont: Font family 'Times New Roman' not found.\n",
            "WARNING:matplotlib.font_manager:findfont: Font family 'Times New Roman' not found.\n",
            "WARNING:matplotlib.font_manager:findfont: Font family 'Times New Roman' not found.\n",
            "WARNING:matplotlib.font_manager:findfont: Font family 'Times New Roman' not found.\n",
            "WARNING:matplotlib.font_manager:findfont: Font family 'Times New Roman' not found.\n",
            "WARNING:matplotlib.font_manager:findfont: Font family 'Times New Roman' not found.\n",
            "WARNING:matplotlib.font_manager:findfont: Font family 'Times New Roman' not found.\n",
            "WARNING:matplotlib.font_manager:findfont: Font family 'Times New Roman' not found.\n",
            "WARNING:matplotlib.font_manager:findfont: Font family 'Times New Roman' not found.\n",
            "WARNING:matplotlib.font_manager:findfont: Font family 'Times New Roman' not found.\n",
            "WARNING:matplotlib.font_manager:findfont: Font family 'Times New Roman' not found.\n",
            "WARNING:matplotlib.font_manager:findfont: Font family 'Times New Roman' not found.\n",
            "WARNING:matplotlib.font_manager:findfont: Font family 'Times New Roman' not found.\n",
            "WARNING:matplotlib.font_manager:findfont: Font family 'Times New Roman' not found.\n",
            "WARNING:matplotlib.font_manager:findfont: Font family 'Times New Roman' not found.\n",
            "WARNING:matplotlib.font_manager:findfont: Font family 'Times New Roman' not found.\n",
            "WARNING:matplotlib.font_manager:findfont: Font family 'Times New Roman' not found.\n",
            "WARNING:matplotlib.font_manager:findfont: Font family 'Times New Roman' not found.\n",
            "WARNING:matplotlib.font_manager:findfont: Font family 'Times New Roman' not found.\n",
            "WARNING:matplotlib.font_manager:findfont: Font family 'Times New Roman' not found.\n",
            "WARNING:matplotlib.font_manager:findfont: Font family 'Times New Roman' not found.\n",
            "WARNING:matplotlib.font_manager:findfont: Font family 'Times New Roman' not found.\n",
            "WARNING:matplotlib.font_manager:findfont: Font family 'Times New Roman' not found.\n",
            "WARNING:matplotlib.font_manager:findfont: Font family 'Times New Roman' not found.\n",
            "WARNING:matplotlib.font_manager:findfont: Font family 'Times New Roman' not found.\n",
            "WARNING:matplotlib.font_manager:findfont: Font family 'Times New Roman' not found.\n",
            "WARNING:matplotlib.font_manager:findfont: Font family 'Times New Roman' not found.\n",
            "WARNING:matplotlib.font_manager:findfont: Font family 'Times New Roman' not found.\n",
            "WARNING:matplotlib.font_manager:findfont: Font family 'Times New Roman' not found.\n",
            "WARNING:matplotlib.font_manager:findfont: Font family 'Times New Roman' not found.\n",
            "WARNING:matplotlib.font_manager:findfont: Font family 'Times New Roman' not found.\n",
            "WARNING:matplotlib.font_manager:findfont: Font family 'Times New Roman' not found.\n",
            "WARNING:matplotlib.font_manager:findfont: Font family 'Times New Roman' not found.\n",
            "WARNING:matplotlib.font_manager:findfont: Font family 'Times New Roman' not found.\n",
            "WARNING:matplotlib.font_manager:findfont: Font family 'Times New Roman' not found.\n",
            "WARNING:matplotlib.font_manager:findfont: Font family 'Times New Roman' not found.\n",
            "WARNING:matplotlib.font_manager:findfont: Font family 'Times New Roman' not found.\n",
            "WARNING:matplotlib.font_manager:findfont: Font family 'Times New Roman' not found.\n",
            "WARNING:matplotlib.font_manager:findfont: Font family 'Times New Roman' not found.\n",
            "WARNING:matplotlib.font_manager:findfont: Font family 'Times New Roman' not found.\n",
            "WARNING:matplotlib.font_manager:findfont: Font family 'Times New Roman' not found.\n",
            "WARNING:matplotlib.font_manager:findfont: Font family 'Times New Roman' not found.\n",
            "WARNING:matplotlib.font_manager:findfont: Font family 'Times New Roman' not found.\n",
            "WARNING:matplotlib.font_manager:findfont: Font family 'Times New Roman' not found.\n",
            "WARNING:matplotlib.font_manager:findfont: Font family 'Times New Roman' not found.\n",
            "WARNING:matplotlib.font_manager:findfont: Font family 'Times New Roman' not found.\n",
            "WARNING:matplotlib.font_manager:findfont: Font family 'Times New Roman' not found.\n",
            "WARNING:matplotlib.font_manager:findfont: Font family 'Times New Roman' not found.\n",
            "WARNING:matplotlib.font_manager:findfont: Font family 'Times New Roman' not found.\n",
            "WARNING:matplotlib.font_manager:findfont: Font family 'Times New Roman' not found.\n",
            "WARNING:matplotlib.font_manager:findfont: Font family 'Times New Roman' not found.\n",
            "WARNING:matplotlib.font_manager:findfont: Font family 'Times New Roman' not found.\n",
            "WARNING:matplotlib.font_manager:findfont: Font family 'Times New Roman' not found.\n",
            "WARNING:matplotlib.font_manager:findfont: Font family 'Times New Roman' not found.\n",
            "WARNING:matplotlib.font_manager:findfont: Font family 'Times New Roman' not found.\n",
            "WARNING:matplotlib.font_manager:findfont: Font family 'Times New Roman' not found.\n",
            "WARNING:matplotlib.font_manager:findfont: Font family 'Times New Roman' not found.\n",
            "WARNING:matplotlib.font_manager:findfont: Font family 'Times New Roman' not found.\n",
            "WARNING:matplotlib.font_manager:findfont: Font family 'Times New Roman' not found.\n",
            "WARNING:matplotlib.font_manager:findfont: Font family 'Times New Roman' not found.\n",
            "WARNING:matplotlib.font_manager:findfont: Font family 'Times New Roman' not found.\n"
          ]
        },
        {
          "output_type": "display_data",
          "data": {
            "text/plain": [
              "<Figure size 1400x800 with 1 Axes>"
            ],
            "image/png": "[encoded data removed]"
          },
          "metadata": {}
        }
      ],
      "source": [
        "import matplotlib.pyplot as plt\n",
        "import numpy as np\n",
        "import seaborn as sns\n",
        "import pandas as pd\n",
        "import os\n",
        "\n",
        "# Data for the models\n",
        "model_names = ['1D CNN', '2D CNN', 'ANN', 'XGBoost', 'Logistic Regression', 'Random Forest', 'Decision Tree']\n",
        "metrics = ['Accuracy', 'RMSE', 'MAE', 'F1 Score', 'AUC']\n",
        "\n",
        "# Performance values for each model\n",
        "values = [\n",
        "    [98.00, 0.14, 0.02, 98.00, 97.78],  # 1D CNN\n",
        "    [97.68, 0.15, 0.02, 97.68, 97.66],  # 2D CNN\n",
        "    [90.28, 0.31, 0.10, 90.25, 90.35],  # ANN\n",
        "    [92.41, 0.28, 0.08, 92.40, 92.39],  # XGBoost\n",
        "    [77.36, 0.48, 0.23, 77.33, 77.32],  # Logistic Regression\n",
        "    [90.96, 0.30, 0.09, 90.96, 90.94],  # Random Forest\n",
        "    [86.64, 0.37, 0.13, 86.63, 86.61]   # Decision Tree\n",
        "]\n",
        "\n",
        "# Convert to DataFrame for easier plotting\n",
        "df = pd.DataFrame(values, columns=metrics, index=model_names)\n",
        "\n",
        "# Normalize the values (optional: you can scale them differently depending on your preferences)\n",
        "df_normalized = df.copy()\n",
        "df_normalized['RMSE'] = df['RMSE'] * 100  # Scale RMSE to be on the same range as others\n",
        "df_normalized['MAE'] = df['MAE'] * 100  # Scale MAE to be on the same range as others\n",
        "\n",
        "# Plotting\n",
        "fig, ax = plt.subplots(figsize=(14, 8))\n",
        "\n",
        "# Set the width of the bars\n",
        "bar_width = 0.1\n",
        "\n",
        "# Define the positions for the bars on the x-axis\n",
        "positions = np.arange(len(model_names))  # Base positions for each model\n",
        "\n",
        "# Plot each metric with an offset from the base positions to create groups\n",
        "for i, metric in enumerate(metrics):\n",
        "    ax.bar(positions + i * bar_width, df_normalized[metric], width=bar_width, label=metric)\n",
        "\n",
        "# Adjusting the x-ticks to be in the center of the grouped bars\n",
        "ax.set_xticks(positions + bar_width * 2)  # Adjust the position to center the labels\n",
        "ax.set_xticklabels(model_names, rotation=45, ha='right', fontsize=18)\n",
        "\n",
        "# Set the labels and title\n",
        "ax.set_title('Performance Metrics Comparison for Various Models', fontsize=20)\n",
        "ax.set_xlabel('Models', fontsize=20)\n",
        "ax.set_ylabel('Scores (%)', fontsize=20)\n",
        "\n",
        "# Add a legend\n",
        "ax.legend(title=\"Metrics\", bbox_to_anchor=(1.05, 1), loc='upper left')\n",
        "\n",
        "# Tight layout for better spacing\n",
        "plt.tight_layout()\n",
        "\n",
        "# Save the plot as a PDF with bbox_inches='tight' to avoid cropping\n",
        "save_folder='/content/drive/MyDrive/Power_Theft_Detection/resultsImages'\n",
        "comparison_pdf_path = os.path.join(save_folder, 'comparison_of_models.pdf')\n",
        "plt.savefig(comparison_pdf_path, format='pdf', bbox_inches='tight')  # Use bbox_inches='tight' to avoid cropping\n",
        "\n",
        "# Show the plot\n",
        "plt.show()\n"
      ]
    },
    {
      "cell_type": "code",
      "execution_count": null,
      "metadata": {
        "id": "D4R9JzPvB_Vu"
      },
      "outputs": [],
      "source": []
    }
  ],
  "metadata": {
    "colab": {
      "provenance": []
    },
    "kernelspec": {
      "display_name": "Python 3",
      "name": "python3"
    },
    "language_info": {
      "name": "python"
    }
  },
  "nbformat": 4,
  "nbformat_minor": 0
}